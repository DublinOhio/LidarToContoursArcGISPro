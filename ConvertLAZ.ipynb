{
 "cells": [
  {
   "cell_type": "markdown",
   "metadata": {},
   "source": [
    "# Create Lidar Derived Contours from USGS Lidar Data in ArcGIS Pro\n",
    "#### Author:\n",
    "Langdon Sanders | GIS@dublin.oh.us\n",
    "December, 2023\n",
    "\n",
    "# Sections\n",
    "* Download .laz files\n",
    "* Convert them to .las\n",
    "* Create a Las Dataset\n",
    "* Create a Filter for Ground Only Points\n",
    "* Create a Digital Elevation Model (DEM)\n",
    "* Create Contours from DEM\n",
    "* Export Contours as Shapefile\n",
    "\n",
    "# Download .laz files from list of URLs, i.e. USGS `data.txt`\n",
    "\n",
    "## Purpose\n",
    "\n",
    "* Lidar data is often provided in many tiles due to its large size, this is the case with data from USGS 3DEp program.\n",
    "* Users create a \"cart\" of data to download from the USGS website, https://www.usgs.gov/the-national-map-data-delivery/gis-data-download\n",
    "* There, a `data.txt` file can be downloaded with a list of all each URL containing the zipped lidar tile from the cart. \n",
    "\n",
    "Example `data.txt` contents\n",
    "```\n",
    "https://rockyweb.usgs.gov/vdelivery/Datasets/Staged/Elevation/LPC/Projects/OH_Columbus_2019_B19/OH_Columbus_2019/LAZ/USGS_LPC_OH_Columbus_2019_B19_BS785753.laz\n",
    "https://rockyweb.usgs.gov/vdelivery/Datasets/Staged/Elevation/LPC/Projects/OH_Columbus_2019_B19/OH_Columbus_2019/LAZ/USGS_LPC_OH_Columbus_2019_B19_BS785755.laz\n",
    "https://rockyweb.usgs.gov/vdelivery/Datasets/Staged/Elevation/LPC/Projects/OH_Columbus_2019_B19/OH_Columbus_2019/LAZ/USGS_LPC_OH_Columbus_2019_B19_BS785756.laz\n",
    "https://rockyweb.usgs.gov/vdelivery/Datasets/Staged/Elevation/LPC/Projects/OH_Columbus_2019_B19/OH_Columbus_2019/LAZ/USGS_LPC_OH_Columbus_2019_B19_BS785757.laz\n",
    "https://rockyweb.usgs.gov/vdelivery/Datasets/Staged/Elevation/LPC/Projects/OH_Columbus_2019_B19/OH_Columbus_2019/LAZ/USGS_LPC_OH_Columbus_2019_B19_BS785758.laz\n",
    "https://rockyweb.usgs.gov/vdelivery/Datasets/Staged/Elevation/LPC/Projects/OH_Columbus_2019_B19/OH_Columbus_2019/LAZ/USGS_LPC_OH_Columbus_2019_B19_BS785760.laz\n",
    "```\n",
    "\n",
    "This portion of the notebook will use the `requests` library to download each of these files to a specified folder"
   ]
  },
  {
   "cell_type": "markdown",
   "metadata": {},
   "source": [
    "## Gather and clean list of data source URLs from file"
   ]
  },
  {
   "cell_type": "code",
   "execution_count": 28,
   "metadata": {},
   "outputs": [],
   "source": [
    "import os"
   ]
  },
  {
   "cell_type": "code",
   "execution_count": 2,
   "metadata": {},
   "outputs": [
    {
     "data": {
      "text/plain": [
       "'G:\\\\GIS Data\\\\Users Planning\\\\Projects\\\\MetroCenterProject'"
      ]
     },
     "execution_count": 2,
     "metadata": {},
     "output_type": "execute_result"
    }
   ],
   "source": [
    "# print current working directory\n",
    "os.getcwd()"
   ]
  },
  {
   "cell_type": "code",
   "execution_count": 18,
   "metadata": {},
   "outputs": [
    {
     "data": {
      "text/plain": [
       "['https://rockyweb.usgs.gov/vdelivery/Datasets/Staged/Elevation/LPC/Projects/OH_Columbus_2019_B19/OH_Columbus_2019/LAZ/USGS_LPC_OH_Columbus_2019_B19_BS785753.laz\\n', 'https://rockyweb.usgs.gov/vdelivery/Datasets/Staged/Elevation/LPC/Projects/OH_Columbus_2019_B19/OH_Columbus_2019/LAZ/USGS_LPC_OH_Columbus_2019_B19_BS785755.laz\\n', 'https://rockyweb.usgs.gov/vdelivery/Datasets/Staged/Elevation/LPC/Projects/OH_Columbus_2019_B19/OH_Columbus_2019/LAZ/USGS_LPC_OH_Columbus_2019_B19_BS785756.laz\\n', 'https://rockyweb.usgs.gov/vdelivery/Datasets/Staged/Elevation/LPC/Projects/OH_Columbus_2019_B19/OH_Columbus_2019/LAZ/USGS_LPC_OH_Columbus_2019_B19_BS785757.laz\\n', 'https://rockyweb.usgs.gov/vdelivery/Datasets/Staged/Elevation/LPC/Projects/OH_Columbus_2019_B19/OH_Columbus_2019/LAZ/USGS_LPC_OH_Columbus_2019_B19_BS785758.laz\\n']"
      ]
     },
     "execution_count": 18,
     "metadata": {},
     "output_type": "execute_result"
    }
   ],
   "source": [
    "# if the data.txt file is in this file you can simply reference \"data.txt\" as the filename\n",
    "# otherwise, use the full filepath \n",
    "\n",
    "lidarURLFile = open(\"data.txt\", \"r\")\n",
    "\n",
    "# create a list of each line in the file\n",
    "urls = lidarURLFile.readlines()\n",
    "\n",
    "# print first 5 for review\n",
    "urls[:5]"
   ]
  },
  {
   "cell_type": "markdown",
   "metadata": {},
   "source": [
    "Remove the `\\n` from each line that is in the original data.txt file"
   ]
  },
  {
   "cell_type": "code",
   "execution_count": 27,
   "metadata": {
    "scrolled": true
   },
   "outputs": [
    {
     "data": {
      "text/plain": [
       "['https://rockyweb.usgs.gov/vdelivery/Datasets/Staged/Elevation/LPC/Projects/OH_Columbus_2019_B19/OH_Columbus_2019/LAZ/USGS_LPC_OH_Columbus_2019_B19_BS785753.laz', 'https://rockyweb.usgs.gov/vdelivery/Datasets/Staged/Elevation/LPC/Projects/OH_Columbus_2019_B19/OH_Columbus_2019/LAZ/USGS_LPC_OH_Columbus_2019_B19_BS785755.laz', 'https://rockyweb.usgs.gov/vdelivery/Datasets/Staged/Elevation/LPC/Projects/OH_Columbus_2019_B19/OH_Columbus_2019/LAZ/USGS_LPC_OH_Columbus_2019_B19_BS785756.laz', 'https://rockyweb.usgs.gov/vdelivery/Datasets/Staged/Elevation/LPC/Projects/OH_Columbus_2019_B19/OH_Columbus_2019/LAZ/USGS_LPC_OH_Columbus_2019_B19_BS785757.laz', 'https://rockyweb.usgs.gov/vdelivery/Datasets/Staged/Elevation/LPC/Projects/OH_Columbus_2019_B19/OH_Columbus_2019/LAZ/USGS_LPC_OH_Columbus_2019_B19_BS785758.laz']"
      ]
     },
     "execution_count": 27,
     "metadata": {},
     "output_type": "execute_result"
    }
   ],
   "source": [
    "# remove the \\n in each line https://stackoverflow.com/questions/7984169/remove-trailing-newline-from-the-elements-of-a-string-list \n",
    "urls = list([url.strip() for url in urls])\n",
    "urls[:5]"
   ]
  },
  {
   "cell_type": "markdown",
   "metadata": {},
   "source": [
    "# Download Files\n",
    "for each line, download the `.laz` file to a folder\n",
    "\n",
    "### Function to create download folder if does not exist"
   ]
  },
  {
   "cell_type": "code",
   "execution_count": 72,
   "metadata": {},
   "outputs": [],
   "source": [
    "def create_download_folder(download_folder = \"lidar\"):\n",
    "    # download_folder folder for the .las files\n",
    "\n",
    "    # create the folder if it doesn't exist\n",
    "    if not os.path.exists(download_folder):\n",
    "\n",
    "        # make the folder\n",
    "        print(\"Ope, looks like that folder doesn't exist yet, no worries, I'll make that now.\")\n",
    "        os.makedirs(download_folder)\n",
    "\n",
    "        # check it's made\n",
    "        print(\"\\t Does it exist now? \", os.path.exists(download_folder))"
   ]
  },
  {
   "cell_type": "markdown",
   "metadata": {},
   "source": [
    "### Using a template code from Real Python blog to download in batch\n",
    "https://realpython.com/python-download-file-from-url/\n",
    "\n",
    "> This function takes a URL as an argument, makes a GET request using the requests library, and saves the retrieved data in a local file. In this specific example, it first attempts to extract the filename from the Content-Disposition response header, which contains information on which items on the page are displayed inline versus as attachments. If that’s not available, then it gets the filename from a part of the URL"
   ]
  },
  {
   "cell_type": "code",
   "execution_count": 41,
   "metadata": {},
   "outputs": [],
   "source": [
    "from concurrent.futures import ThreadPoolExecutor\n",
    "import requests"
   ]
  },
  {
   "cell_type": "code",
   "execution_count": 74,
   "metadata": {},
   "outputs": [],
   "source": [
    "# source: https://realpython.com/python-download-file-from-url/ \n",
    "# Edits for creating download destionation folder\n",
    "\n",
    "# can name the downlaod folder whatever you want, will be created in current working directory \n",
    "\n",
    "def download_file(url, download_folder=\"lidar\"): \n",
    "    \n",
    "    #create location if does nto exist\n",
    "    create_download_folder(download_folder)\n",
    "    \n",
    "    response = requests.get(url)\n",
    "    if \"content-disposition\" in response.headers:\n",
    "        content_disposition = response.headers[\"content-disposition\"]\n",
    "        filename = content_disposition.split(\"filename=\")[1]\n",
    "    else:\n",
    "        filename = url.split(\"/\")[-1]\n",
    "    print(filename)\n",
    "\n",
    "    \n",
    "    # download to specified folder location\n",
    "    with open(os.path.join(download_folder, filename), mode=\"wb\") as file:\n",
    "        file.write(response.content)\n",
    "        \n",
    "    print(f\"Downloaded file {os.path.abspath(filename)}\")"
   ]
  },
  {
   "cell_type": "code",
   "execution_count": 76,
   "metadata": {},
   "outputs": [
    {
     "name": "stdout",
     "output_type": "stream",
     "text": [
      "USGS_LPC_OH_Columbus_2019_B19_BS786757.laz\n",
      "Downloaded file G:\\GIS Data\\Users Planning\\Projects\\MetroCenterProject\\USGS_LPC_OH_Columbus_2019_B19_BS786757.laz\n",
      "USGS_LPC_OH_Columbus_2019_B19_BS786755.laz\n",
      "Downloaded file G:\\GIS Data\\Users Planning\\Projects\\MetroCenterProject\\USGS_LPC_OH_Columbus_2019_B19_BS786755.laz\n",
      "USGS_LPC_OH_Columbus_2019_B19_BS785753.laz\n",
      "Downloaded file G:\\GIS Data\\Users Planning\\Projects\\MetroCenterProject\\USGS_LPC_OH_Columbus_2019_B19_BS785753.laz\n",
      "USGS_LPC_OH_Columbus_2019_B19_BS785755.laz\n",
      "Downloaded file G:\\GIS Data\\Users Planning\\Projects\\MetroCenterProject\\USGS_LPC_OH_Columbus_2019_B19_BS785755.laz\n",
      "USGS_LPC_OH_Columbus_2019_B19_BS786762.laz\n",
      "Downloaded file G:\\GIS Data\\Users Planning\\Projects\\MetroCenterProject\\USGS_LPC_OH_Columbus_2019_B19_BS786762.laz\n",
      "USGS_LPC_OH_Columbus_2019_B19_BS786753.laz\n",
      "Downloaded file G:\\GIS Data\\Users Planning\\Projects\\MetroCenterProject\\USGS_LPC_OH_Columbus_2019_B19_BS786753.laz\n",
      "USGS_LPC_OH_Columbus_2019_B19_BS786765.laz\n",
      "Downloaded file G:\\GIS Data\\Users Planning\\Projects\\MetroCenterProject\\USGS_LPC_OH_Columbus_2019_B19_BS786765.laz\n",
      "USGS_LPC_OH_Columbus_2019_B19_BS786761.laz\n",
      "Downloaded file G:\\GIS Data\\Users Planning\\Projects\\MetroCenterProject\\USGS_LPC_OH_Columbus_2019_B19_BS786761.laz\n",
      "USGS_LPC_OH_Columbus_2019_B19_BS786756.laz\n",
      "Downloaded file G:\\GIS Data\\Users Planning\\Projects\\MetroCenterProject\\USGS_LPC_OH_Columbus_2019_B19_BS786756.laz\n",
      "USGS_LPC_OH_Columbus_2019_B19_BS785758.laz\n",
      "Downloaded file G:\\GIS Data\\Users Planning\\Projects\\MetroCenterProject\\USGS_LPC_OH_Columbus_2019_B19_BS785758.laz\n",
      "USGS_LPC_OH_Columbus_2019_B19_BS786758.laz\n",
      "Downloaded file G:\\GIS Data\\Users Planning\\Projects\\MetroCenterProject\\USGS_LPC_OH_Columbus_2019_B19_BS786758.laz\n",
      "USGS_LPC_OH_Columbus_2019_B19_BS785761.laz\n",
      "Downloaded file G:\\GIS Data\\Users Planning\\Projects\\MetroCenterProject\\USGS_LPC_OH_Columbus_2019_B19_BS785761.laz\n",
      "USGS_LPC_OH_Columbus_2019_B19_BS785757.laz\n",
      "Downloaded file G:\\GIS Data\\Users Planning\\Projects\\MetroCenterProject\\USGS_LPC_OH_Columbus_2019_B19_BS785757.laz\n",
      "USGS_LPC_OH_Columbus_2019_B19_BS786760.laz\n",
      "Downloaded file G:\\GIS Data\\Users Planning\\Projects\\MetroCenterProject\\USGS_LPC_OH_Columbus_2019_B19_BS786760.laz\n",
      "USGS_LPC_OH_Columbus_2019_B19_BS787757.laz\n",
      "Downloaded file G:\\GIS Data\\Users Planning\\Projects\\MetroCenterProject\\USGS_LPC_OH_Columbus_2019_B19_BS787757.laz\n",
      "USGS_LPC_OH_Columbus_2019_B19_BS785756.laz\n",
      "Downloaded file G:\\GIS Data\\Users Planning\\Projects\\MetroCenterProject\\USGS_LPC_OH_Columbus_2019_B19_BS785756.laz\n",
      "USGS_LPC_OH_Columbus_2019_B19_BS785760.laz\n",
      "Downloaded file G:\\GIS Data\\Users Planning\\Projects\\MetroCenterProject\\USGS_LPC_OH_Columbus_2019_B19_BS785760.laz\n",
      "USGS_LPC_OH_Columbus_2019_B19_BS785765.laz\n",
      "Downloaded file G:\\GIS Data\\Users Planning\\Projects\\MetroCenterProject\\USGS_LPC_OH_Columbus_2019_B19_BS785765.laz\n",
      "USGS_LPC_OH_Columbus_2019_B19_BS785762.laz\n",
      "Downloaded file G:\\GIS Data\\Users Planning\\Projects\\MetroCenterProject\\USGS_LPC_OH_Columbus_2019_B19_BS785762.laz\n",
      "USGS_LPC_OH_Columbus_2019_B19_BS785766.laz\n",
      "Downloaded file G:\\GIS Data\\Users Planning\\Projects\\MetroCenterProject\\USGS_LPC_OH_Columbus_2019_B19_BS785766.laz\n",
      "USGS_LPC_OH_Columbus_2019_B19_BS787765.laz\n",
      "Downloaded file G:\\GIS Data\\Users Planning\\Projects\\MetroCenterProject\\USGS_LPC_OH_Columbus_2019_B19_BS787765.laz\n",
      "USGS_LPC_OH_Columbus_2019_B19_BS785763.laz\n",
      "Downloaded file G:\\GIS Data\\Users Planning\\Projects\\MetroCenterProject\\USGS_LPC_OH_Columbus_2019_B19_BS785763.laz\n",
      "USGS_LPC_OH_Columbus_2019_B19_BS788755.laz\n",
      "Downloaded file G:\\GIS Data\\Users Planning\\Projects\\MetroCenterProject\\USGS_LPC_OH_Columbus_2019_B19_BS788755.laz\n",
      "USGS_LPC_OH_Columbus_2019_B19_BS786766.laz\n",
      "Downloaded file G:\\GIS Data\\Users Planning\\Projects\\MetroCenterProject\\USGS_LPC_OH_Columbus_2019_B19_BS786766.laz\n",
      "USGS_LPC_OH_Columbus_2019_B19_BS786767.laz\n",
      "Downloaded file G:\\GIS Data\\Users Planning\\Projects\\MetroCenterProject\\USGS_LPC_OH_Columbus_2019_B19_BS786767.laz\n",
      "USGS_LPC_OH_Columbus_2019_B19_BS785768.laz\n",
      "Downloaded file G:\\GIS Data\\Users Planning\\Projects\\MetroCenterProject\\USGS_LPC_OH_Columbus_2019_B19_BS785768.laz\n",
      "USGS_LPC_OH_Columbus_2019_B19_BS786768.laz\n",
      "Downloaded file G:\\GIS Data\\Users Planning\\Projects\\MetroCenterProject\\USGS_LPC_OH_Columbus_2019_B19_BS786768.laz\n",
      "USGS_LPC_OH_Columbus_2019_B19_BS785767.laz\n",
      "USGS_LPC_OH_Columbus_2019_B19_BS788753.laz\n",
      "Downloaded file G:\\GIS Data\\Users Planning\\Projects\\MetroCenterProject\\USGS_LPC_OH_Columbus_2019_B19_BS785767.laz\n",
      "Downloaded file G:\\GIS Data\\Users Planning\\Projects\\MetroCenterProject\\USGS_LPC_OH_Columbus_2019_B19_BS788753.laz\n",
      "USGS_LPC_OH_Columbus_2019_B19_BS786763.laz\n",
      "Downloaded file G:\\GIS Data\\Users Planning\\Projects\\MetroCenterProject\\USGS_LPC_OH_Columbus_2019_B19_BS786763.laz\n",
      "USGS_LPC_OH_Columbus_2019_B19_BS788766.laz\n",
      "USGS_LPC_OH_Columbus_2019_B19_BS787766.laz\n",
      "Downloaded file G:\\GIS Data\\Users Planning\\Projects\\MetroCenterProject\\USGS_LPC_OH_Columbus_2019_B19_BS788766.laz\n",
      "Downloaded file G:\\GIS Data\\Users Planning\\Projects\\MetroCenterProject\\USGS_LPC_OH_Columbus_2019_B19_BS787766.laz\n",
      "USGS_LPC_OH_Columbus_2019_B19_BS787762.laz\n",
      "Downloaded file G:\\GIS Data\\Users Planning\\Projects\\MetroCenterProject\\USGS_LPC_OH_Columbus_2019_B19_BS787762.laz\n",
      "USGS_LPC_OH_Columbus_2019_B19_BS787753.laz\n",
      "Downloaded file G:\\GIS Data\\Users Planning\\Projects\\MetroCenterProject\\USGS_LPC_OH_Columbus_2019_B19_BS787753.laz\n",
      "USGS_LPC_OH_Columbus_2019_B19_BS788756.laz\n",
      "Downloaded file G:\\GIS Data\\Users Planning\\Projects\\MetroCenterProject\\USGS_LPC_OH_Columbus_2019_B19_BS788756.laz\n",
      "USGS_LPC_OH_Columbus_2019_B19_BS788760.laz\n",
      "Downloaded file G:\\GIS Data\\Users Planning\\Projects\\MetroCenterProject\\USGS_LPC_OH_Columbus_2019_B19_BS788760.laz\n",
      "USGS_LPC_OH_Columbus_2019_B19_BS788762.laz\n",
      "Downloaded file G:\\GIS Data\\Users Planning\\Projects\\MetroCenterProject\\USGS_LPC_OH_Columbus_2019_B19_BS788762.laz\n",
      "USGS_LPC_OH_Columbus_2019_B19_BS787760.laz\n",
      "Downloaded file G:\\GIS Data\\Users Planning\\Projects\\MetroCenterProject\\USGS_LPC_OH_Columbus_2019_B19_BS787760.laz\n",
      "USGS_LPC_OH_Columbus_2019_B19_BS788761.laz\n",
      "Downloaded file G:\\GIS Data\\Users Planning\\Projects\\MetroCenterProject\\USGS_LPC_OH_Columbus_2019_B19_BS788761.laz\n",
      "USGS_LPC_OH_Columbus_2019_B19_BS788765.laz\n",
      "Downloaded file G:\\GIS Data\\Users Planning\\Projects\\MetroCenterProject\\USGS_LPC_OH_Columbus_2019_B19_BS788765.laz\n",
      "USGS_LPC_OH_Columbus_2019_B19_BS787758.laz\n",
      "Downloaded file G:\\GIS Data\\Users Planning\\Projects\\MetroCenterProject\\USGS_LPC_OH_Columbus_2019_B19_BS787758.laz\n",
      "USGS_LPC_OH_Columbus_2019_B19_BS787763.laz\n",
      "Downloaded file G:\\GIS Data\\Users Planning\\Projects\\MetroCenterProject\\USGS_LPC_OH_Columbus_2019_B19_BS787763.laz\n",
      "USGS_LPC_OH_Columbus_2019_B19_BS790757.laz\n",
      "Downloaded file G:\\GIS Data\\Users Planning\\Projects\\MetroCenterProject\\USGS_LPC_OH_Columbus_2019_B19_BS790757.laz\n",
      "USGS_LPC_OH_Columbus_2019_B19_BS790756.laz\n",
      "Downloaded file G:\\GIS Data\\Users Planning\\Projects\\MetroCenterProject\\USGS_LPC_OH_Columbus_2019_B19_BS790756.laz\n",
      "USGS_LPC_OH_Columbus_2019_B19_BS788758.laz\n",
      "Downloaded file G:\\GIS Data\\Users Planning\\Projects\\MetroCenterProject\\USGS_LPC_OH_Columbus_2019_B19_BS788758.laz\n",
      "USGS_LPC_OH_Columbus_2019_B19_BS787756.laz\n",
      "Downloaded file G:\\GIS Data\\Users Planning\\Projects\\MetroCenterProject\\USGS_LPC_OH_Columbus_2019_B19_BS787756.laz\n",
      "USGS_LPC_OH_Columbus_2019_B19_BS788757.laz\n",
      "Downloaded file G:\\GIS Data\\Users Planning\\Projects\\MetroCenterProject\\USGS_LPC_OH_Columbus_2019_B19_BS788757.laz\n",
      "USGS_LPC_OH_Columbus_2019_B19_BS787767.laz\n",
      "Downloaded file G:\\GIS Data\\Users Planning\\Projects\\MetroCenterProject\\USGS_LPC_OH_Columbus_2019_B19_BS787767.laz\n",
      "USGS_LPC_OH_Columbus_2019_B19_BS788767.laz\n",
      "Downloaded file G:\\GIS Data\\Users Planning\\Projects\\MetroCenterProject\\USGS_LPC_OH_Columbus_2019_B19_BS788767.laz\n",
      "USGS_LPC_OH_Columbus_2019_B19_BS787768.laz\n",
      "USGS_LPC_OH_Columbus_2019_B19_BS787755.laz\n",
      "USGS_LPC_OH_Columbus_2019_B19_BS788763.laz\n",
      "Downloaded file G:\\GIS Data\\Users Planning\\Projects\\MetroCenterProject\\USGS_LPC_OH_Columbus_2019_B19_BS787768.laz\n",
      "Downloaded file G:\\GIS Data\\Users Planning\\Projects\\MetroCenterProject\\USGS_LPC_OH_Columbus_2019_B19_BS787755.laz\n",
      "Downloaded file G:\\GIS Data\\Users Planning\\Projects\\MetroCenterProject\\USGS_LPC_OH_Columbus_2019_B19_BS788763.laz\n",
      "USGS_LPC_OH_Columbus_2019_B19_BS790755.laz\n",
      "Downloaded file G:\\GIS Data\\Users Planning\\Projects\\MetroCenterProject\\USGS_LPC_OH_Columbus_2019_B19_BS790755.laz\n",
      "USGS_LPC_OH_Columbus_2019_B19_BS790767.laz\n",
      "Downloaded file G:\\GIS Data\\Users Planning\\Projects\\MetroCenterProject\\USGS_LPC_OH_Columbus_2019_B19_BS790767.laz\n",
      "USGS_LPC_OH_Columbus_2019_B19_BS790753.laz\n",
      "Downloaded file G:\\GIS Data\\Users Planning\\Projects\\MetroCenterProject\\USGS_LPC_OH_Columbus_2019_B19_BS790753.laz\n",
      "USGS_LPC_OH_Columbus_2019_B19_BS790766.laz\n",
      "Downloaded file G:\\GIS Data\\Users Planning\\Projects\\MetroCenterProject\\USGS_LPC_OH_Columbus_2019_B19_BS790766.laz\n",
      "USGS_LPC_OH_Columbus_2019_B19_BS790761.laz\n",
      "Downloaded file G:\\GIS Data\\Users Planning\\Projects\\MetroCenterProject\\USGS_LPC_OH_Columbus_2019_B19_BS790761.laz\n",
      "USGS_LPC_OH_Columbus_2019_B19_BS790758.laz\n",
      "Downloaded file G:\\GIS Data\\Users Planning\\Projects\\MetroCenterProject\\USGS_LPC_OH_Columbus_2019_B19_BS790758.laz\n",
      "USGS_LPC_OH_Columbus_2019_B19_BS791758.laz\n",
      "Downloaded file G:\\GIS Data\\Users Planning\\Projects\\MetroCenterProject\\USGS_LPC_OH_Columbus_2019_B19_BS791758.laz\n",
      "USGS_LPC_OH_Columbus_2019_B19_BS791756.laz\n",
      "Downloaded file G:\\GIS Data\\Users Planning\\Projects\\MetroCenterProject\\USGS_LPC_OH_Columbus_2019_B19_BS791756.laz\n",
      "USGS_LPC_OH_Columbus_2019_B19_BS790760.laz\n",
      "Downloaded file G:\\GIS Data\\Users Planning\\Projects\\MetroCenterProject\\USGS_LPC_OH_Columbus_2019_B19_BS790760.laz\n",
      "USGS_LPC_OH_Columbus_2019_B19_BS791766.laz\n",
      "USGS_LPC_OH_Columbus_2019_B19_BS790765.laz\n",
      "USGS_LPC_OH_Columbus_2019_B19_BS788768.laz\n",
      "Downloaded file G:\\GIS Data\\Users Planning\\Projects\\MetroCenterProject\\USGS_LPC_OH_Columbus_2019_B19_BS791766.laz\n",
      "Downloaded file G:\\GIS Data\\Users Planning\\Projects\\MetroCenterProject\\USGS_LPC_OH_Columbus_2019_B19_BS790765.laz\n",
      "Downloaded file G:\\GIS Data\\Users Planning\\Projects\\MetroCenterProject\\USGS_LPC_OH_Columbus_2019_B19_BS788768.laz\n",
      "USGS_LPC_OH_Columbus_2019_B19_BS791757.laz\n",
      "USGS_LPC_OH_Columbus_2019_B19_BS791755.laz\n",
      "Downloaded file G:\\GIS Data\\Users Planning\\Projects\\MetroCenterProject\\USGS_LPC_OH_Columbus_2019_B19_BS791757.laz\n",
      "Downloaded file G:\\GIS Data\\Users Planning\\Projects\\MetroCenterProject\\USGS_LPC_OH_Columbus_2019_B19_BS791755.laz\n",
      "USGS_LPC_OH_Columbus_2019_B19_BS791763.laz\n",
      "USGS_LPC_OH_Columbus_2019_B19_BS791753.laz\n",
      "Downloaded file G:\\GIS Data\\Users Planning\\Projects\\MetroCenterProject\\USGS_LPC_OH_Columbus_2019_B19_BS791763.laz\n",
      "Downloaded file G:\\GIS Data\\Users Planning\\Projects\\MetroCenterProject\\USGS_LPC_OH_Columbus_2019_B19_BS791753.laz\n",
      "USGS_LPC_OH_Columbus_2019_B19_BS792753.laz\n",
      "Downloaded file G:\\GIS Data\\Users Planning\\Projects\\MetroCenterProject\\USGS_LPC_OH_Columbus_2019_B19_BS792753.laz\n",
      "USGS_LPC_OH_Columbus_2019_B19_BS792760.laz\n",
      "Downloaded file G:\\GIS Data\\Users Planning\\Projects\\MetroCenterProject\\USGS_LPC_OH_Columbus_2019_B19_BS792760.laz\n",
      "USGS_LPC_OH_Columbus_2019_B19_BS790763.laz\n",
      "Downloaded file G:\\GIS Data\\Users Planning\\Projects\\MetroCenterProject\\USGS_LPC_OH_Columbus_2019_B19_BS790763.laz\n",
      "USGS_LPC_OH_Columbus_2019_B19_BS791761.laz\n",
      "Downloaded file G:\\GIS Data\\Users Planning\\Projects\\MetroCenterProject\\USGS_LPC_OH_Columbus_2019_B19_BS791761.laz\n",
      "USGS_LPC_OH_Columbus_2019_B19_BS790762.laz\n",
      "Downloaded file G:\\GIS Data\\Users Planning\\Projects\\MetroCenterProject\\USGS_LPC_OH_Columbus_2019_B19_BS790762.laz\n",
      "USGS_LPC_OH_Columbus_2019_B19_BS792766.laz\n",
      "USGS_LPC_OH_Columbus_2019_B19_BS791762.laz\n",
      "USGS_LPC_OH_Columbus_2019_B19_BS791767.laz\n",
      "Downloaded file G:\\GIS Data\\Users Planning\\Projects\\MetroCenterProject\\USGS_LPC_OH_Columbus_2019_B19_BS792766.laz\n",
      "Downloaded file G:\\GIS Data\\Users Planning\\Projects\\MetroCenterProject\\USGS_LPC_OH_Columbus_2019_B19_BS791762.laz\n",
      "Downloaded file G:\\GIS Data\\Users Planning\\Projects\\MetroCenterProject\\USGS_LPC_OH_Columbus_2019_B19_BS791767.laz\n",
      "USGS_LPC_OH_Columbus_2019_B19_BS790768.laz\n",
      "Downloaded file G:\\GIS Data\\Users Planning\\Projects\\MetroCenterProject\\USGS_LPC_OH_Columbus_2019_B19_BS790768.laz\n",
      "USGS_LPC_OH_Columbus_2019_B19_BS791760.laz\n",
      "Downloaded file G:\\GIS Data\\Users Planning\\Projects\\MetroCenterProject\\USGS_LPC_OH_Columbus_2019_B19_BS791760.laz\n",
      "USGS_LPC_OH_Columbus_2019_B19_BS792768.laz\n",
      "Downloaded file G:\\GIS Data\\Users Planning\\Projects\\MetroCenterProject\\USGS_LPC_OH_Columbus_2019_B19_BS792768.laz\n",
      "USGS_LPC_OH_Columbus_2019_B19_BS792755.laz\n",
      "Downloaded file G:\\GIS Data\\Users Planning\\Projects\\MetroCenterProject\\USGS_LPC_OH_Columbus_2019_B19_BS792755.laz\n",
      "USGS_LPC_OH_Columbus_2019_B19_BS791768.laz\n",
      "Downloaded file G:\\GIS Data\\Users Planning\\Projects\\MetroCenterProject\\USGS_LPC_OH_Columbus_2019_B19_BS791768.laz\n",
      "USGS_LPC_OH_Columbus_2019_B19_BS792765.laz\n",
      "USGS_LPC_OH_Columbus_2019_B19_BS792763.laz\n",
      "Downloaded file G:\\GIS Data\\Users Planning\\Projects\\MetroCenterProject\\USGS_LPC_OH_Columbus_2019_B19_BS792765.laz\n",
      "Downloaded file G:\\GIS Data\\Users Planning\\Projects\\MetroCenterProject\\USGS_LPC_OH_Columbus_2019_B19_BS792763.laz\n",
      "USGS_LPC_OH_Columbus_2019_B19_BS792758.laz\n",
      "Downloaded file G:\\GIS Data\\Users Planning\\Projects\\MetroCenterProject\\USGS_LPC_OH_Columbus_2019_B19_BS792758.laz\n",
      "USGS_LPC_OH_Columbus_2019_B19_BS791765.laz\n",
      "Downloaded file G:\\GIS Data\\Users Planning\\Projects\\MetroCenterProject\\USGS_LPC_OH_Columbus_2019_B19_BS791765.laz\n",
      "USGS_LPC_OH_Columbus_2019_B19_BS793755.laz\n",
      "Downloaded file G:\\GIS Data\\Users Planning\\Projects\\MetroCenterProject\\USGS_LPC_OH_Columbus_2019_B19_BS793755.laz\n",
      "USGS_LPC_OH_Columbus_2019_B19_BS792762.laz\n",
      "Downloaded file G:\\GIS Data\\Users Planning\\Projects\\MetroCenterProject\\USGS_LPC_OH_Columbus_2019_B19_BS792762.laz\n",
      "USGS_LPC_OH_Columbus_2019_B19_BS792756.laz\n",
      "Downloaded file G:\\GIS Data\\Users Planning\\Projects\\MetroCenterProject\\USGS_LPC_OH_Columbus_2019_B19_BS792756.laz\n",
      "USGS_LPC_OH_Columbus_2019_B19_BS793757.laz\n",
      "Downloaded file G:\\GIS Data\\Users Planning\\Projects\\MetroCenterProject\\USGS_LPC_OH_Columbus_2019_B19_BS793757.laz\n",
      "USGS_LPC_OH_Columbus_2019_B19_BS792757.laz\n",
      "Downloaded file G:\\GIS Data\\Users Planning\\Projects\\MetroCenterProject\\USGS_LPC_OH_Columbus_2019_B19_BS792757.laz\n",
      "USGS_LPC_OH_Columbus_2019_B19_BS792767.laz\n",
      "Downloaded file G:\\GIS Data\\Users Planning\\Projects\\MetroCenterProject\\USGS_LPC_OH_Columbus_2019_B19_BS792767.laz\n",
      "USGS_LPC_OH_Columbus_2019_B19_BS793763.laz\n",
      "Downloaded file G:\\GIS Data\\Users Planning\\Projects\\MetroCenterProject\\USGS_LPC_OH_Columbus_2019_B19_BS793763.laz\n",
      "USGS_LPC_OH_Columbus_2019_B19_BS795753.laz\n",
      "Downloaded file G:\\GIS Data\\Users Planning\\Projects\\MetroCenterProject\\USGS_LPC_OH_Columbus_2019_B19_BS795753.laz\n",
      "USGS_LPC_OH_Columbus_2019_B19_BS793767.laz\n",
      "Downloaded file G:\\GIS Data\\Users Planning\\Projects\\MetroCenterProject\\USGS_LPC_OH_Columbus_2019_B19_BS793767.laz\n",
      "USGS_LPC_OH_Columbus_2019_B19_BS795765.laz\n",
      "Downloaded file G:\\GIS Data\\Users Planning\\Projects\\MetroCenterProject\\USGS_LPC_OH_Columbus_2019_B19_BS795765.laz\n",
      "USGS_LPC_OH_Columbus_2019_B19_BS793760.laz\n",
      "Downloaded file G:\\GIS Data\\Users Planning\\Projects\\MetroCenterProject\\USGS_LPC_OH_Columbus_2019_B19_BS793760.laz\n",
      "USGS_LPC_OH_Columbus_2019_B19_BS792761.laz\n",
      "Downloaded file G:\\GIS Data\\Users Planning\\Projects\\MetroCenterProject\\USGS_LPC_OH_Columbus_2019_B19_BS792761.laz\n",
      "USGS_LPC_OH_Columbus_2019_B19_BS795757.laz\n",
      "Downloaded file G:\\GIS Data\\Users Planning\\Projects\\MetroCenterProject\\USGS_LPC_OH_Columbus_2019_B19_BS795757.laz\n",
      "USGS_LPC_OH_Columbus_2019_B19_BS795762.laz\n",
      "Downloaded file G:\\GIS Data\\Users Planning\\Projects\\MetroCenterProject\\USGS_LPC_OH_Columbus_2019_B19_BS795762.laz\n",
      "USGS_LPC_OH_Columbus_2019_B19_BS793756.laz\n",
      "Downloaded file G:\\GIS Data\\Users Planning\\Projects\\MetroCenterProject\\USGS_LPC_OH_Columbus_2019_B19_BS793756.laz\n",
      "USGS_LPC_OH_Columbus_2019_B19_BS795761.laz\n",
      "Downloaded file G:\\GIS Data\\Users Planning\\Projects\\MetroCenterProject\\USGS_LPC_OH_Columbus_2019_B19_BS795761.laz\n",
      "USGS_LPC_OH_Columbus_2019_B19_BS795760.laz\n",
      "Downloaded file G:\\GIS Data\\Users Planning\\Projects\\MetroCenterProject\\USGS_LPC_OH_Columbus_2019_B19_BS795760.laz\n",
      "USGS_LPC_OH_Columbus_2019_B19_BS793758.laz\n",
      "Downloaded file G:\\GIS Data\\Users Planning\\Projects\\MetroCenterProject\\USGS_LPC_OH_Columbus_2019_B19_BS793758.laz\n",
      "USGS_LPC_OH_Columbus_2019_B19_BS795758.laz\n",
      "Downloaded file G:\\GIS Data\\Users Planning\\Projects\\MetroCenterProject\\USGS_LPC_OH_Columbus_2019_B19_BS795758.laz\n"
     ]
    },
    {
     "name": "stdout",
     "output_type": "stream",
     "text": [
      "USGS_LPC_OH_Columbus_2019_B19_BS793765.laz\n",
      "USGS_LPC_OH_Columbus_2019_B19_BS795756.laz\n",
      "Downloaded file G:\\GIS Data\\Users Planning\\Projects\\MetroCenterProject\\USGS_LPC_OH_Columbus_2019_B19_BS795756.laz\n",
      "Downloaded file G:\\GIS Data\\Users Planning\\Projects\\MetroCenterProject\\USGS_LPC_OH_Columbus_2019_B19_BS793765.laz\n",
      "USGS_LPC_OH_Columbus_2019_B19_BS795767.laz\n",
      "Downloaded file G:\\GIS Data\\Users Planning\\Projects\\MetroCenterProject\\USGS_LPC_OH_Columbus_2019_B19_BS795767.laz\n",
      "USGS_LPC_OH_Columbus_2019_B19_BS793768.laz\n",
      "USGS_LPC_OH_Columbus_2019_B19_BS793766.laz\n",
      "Downloaded file G:\\GIS Data\\Users Planning\\Projects\\MetroCenterProject\\USGS_LPC_OH_Columbus_2019_B19_BS793768.laz\n",
      "Downloaded file G:\\GIS Data\\Users Planning\\Projects\\MetroCenterProject\\USGS_LPC_OH_Columbus_2019_B19_BS793766.laz\n",
      "USGS_LPC_OH_Columbus_2019_B19_BS795768.laz\n",
      "Downloaded file G:\\GIS Data\\Users Planning\\Projects\\MetroCenterProject\\USGS_LPC_OH_Columbus_2019_B19_BS795768.laz\n",
      "USGS_LPC_OH_Columbus_2019_B19_BS793753.laz\n",
      "Downloaded file G:\\GIS Data\\Users Planning\\Projects\\MetroCenterProject\\USGS_LPC_OH_Columbus_2019_B19_BS793753.laz\n",
      "USGS_LPC_OH_Columbus_2019_B19_BS795755.laz\n",
      "Downloaded file G:\\GIS Data\\Users Planning\\Projects\\MetroCenterProject\\USGS_LPC_OH_Columbus_2019_B19_BS795755.laz\n",
      "USGS_LPC_OH_Columbus_2019_B19_BS795763.laz\n",
      "Downloaded file G:\\GIS Data\\Users Planning\\Projects\\MetroCenterProject\\USGS_LPC_OH_Columbus_2019_B19_BS795763.laz\n",
      "USGS_LPC_OH_Columbus_2019_B19_BS797753.laz\n",
      "Downloaded file G:\\GIS Data\\Users Planning\\Projects\\MetroCenterProject\\USGS_LPC_OH_Columbus_2019_B19_BS797753.laz\n",
      "USGS_LPC_OH_Columbus_2019_B19_BS797755.laz\n",
      "Downloaded file G:\\GIS Data\\Users Planning\\Projects\\MetroCenterProject\\USGS_LPC_OH_Columbus_2019_B19_BS797755.laz\n",
      "USGS_LPC_OH_Columbus_2019_B19_BS797757.laz\n",
      "Downloaded file G:\\GIS Data\\Users Planning\\Projects\\MetroCenterProject\\USGS_LPC_OH_Columbus_2019_B19_BS797757.laz\n",
      "USGS_LPC_OH_Columbus_2019_B19_BS795766.laz\n",
      "Downloaded file G:\\GIS Data\\Users Planning\\Projects\\MetroCenterProject\\USGS_LPC_OH_Columbus_2019_B19_BS795766.laz\n",
      "USGS_LPC_OH_Columbus_2019_B19_BS793762.laz\n",
      "USGS_LPC_OH_Columbus_2019_B19_BS796755.laz\n",
      "Downloaded file G:\\GIS Data\\Users Planning\\Projects\\MetroCenterProject\\USGS_LPC_OH_Columbus_2019_B19_BS796755.laz\n",
      "USGS_LPC_OH_Columbus_2019_B19_BS793761.laz\n",
      "Downloaded file G:\\GIS Data\\Users Planning\\Projects\\MetroCenterProject\\USGS_LPC_OH_Columbus_2019_B19_BS793762.laz\n",
      "Downloaded file G:\\GIS Data\\Users Planning\\Projects\\MetroCenterProject\\USGS_LPC_OH_Columbus_2019_B19_BS793761.laz\n",
      "USGS_LPC_OH_Columbus_2019_B19_BS797761.laz\n",
      "Downloaded file G:\\GIS Data\\Users Planning\\Projects\\MetroCenterProject\\USGS_LPC_OH_Columbus_2019_B19_BS797761.laz\n",
      "USGS_LPC_OH_Columbus_2019_B19_BS797766.laz\n",
      "Downloaded file G:\\GIS Data\\Users Planning\\Projects\\MetroCenterProject\\USGS_LPC_OH_Columbus_2019_B19_BS797766.laz\n",
      "USGS_LPC_OH_Columbus_2019_B19_BS797756.laz\n",
      "Downloaded file G:\\GIS Data\\Users Planning\\Projects\\MetroCenterProject\\USGS_LPC_OH_Columbus_2019_B19_BS797756.laz\n",
      "USGS_LPC_OH_Columbus_2019_B19_BS797760.laz\n",
      "Downloaded file G:\\GIS Data\\Users Planning\\Projects\\MetroCenterProject\\USGS_LPC_OH_Columbus_2019_B19_BS797760.laz\n",
      "USGS_LPC_OH_Columbus_2019_B19_BS797765.laz\n",
      "Downloaded file G:\\GIS Data\\Users Planning\\Projects\\MetroCenterProject\\USGS_LPC_OH_Columbus_2019_B19_BS797765.laz\n",
      "USGS_LPC_OH_Columbus_2019_B19_BS796756.laz\n",
      "Downloaded file G:\\GIS Data\\Users Planning\\Projects\\MetroCenterProject\\USGS_LPC_OH_Columbus_2019_B19_BS796756.laz\n",
      "USGS_LPC_OH_Columbus_2019_B19_BS796757.laz\n",
      "Downloaded file G:\\GIS Data\\Users Planning\\Projects\\MetroCenterProject\\USGS_LPC_OH_Columbus_2019_B19_BS796757.laz\n",
      "USGS_LPC_OH_Columbus_2019_B19_BS797763.laz\n",
      "Downloaded file G:\\GIS Data\\Users Planning\\Projects\\MetroCenterProject\\USGS_LPC_OH_Columbus_2019_B19_BS797763.laz\n",
      "USGS_LPC_OH_Columbus_2019_B19_BS797768.laz\n",
      "Downloaded file G:\\GIS Data\\Users Planning\\Projects\\MetroCenterProject\\USGS_LPC_OH_Columbus_2019_B19_BS797768.laz\n",
      "USGS_LPC_OH_Columbus_2019_B19_BS796762.laz\n",
      "Downloaded file G:\\GIS Data\\Users Planning\\Projects\\MetroCenterProject\\USGS_LPC_OH_Columbus_2019_B19_BS796762.laz\n",
      "USGS_LPC_OH_Columbus_2019_B19_BS796753.laz\n",
      "Downloaded file G:\\GIS Data\\Users Planning\\Projects\\MetroCenterProject\\USGS_LPC_OH_Columbus_2019_B19_BS796753.laz\n",
      "USGS_LPC_OH_Columbus_2019_B19_BS796765.laz\n",
      "Downloaded file G:\\GIS Data\\Users Planning\\Projects\\MetroCenterProject\\USGS_LPC_OH_Columbus_2019_B19_BS796765.laz\n",
      "USGS_LPC_OH_Columbus_2019_B19_BS796768.laz\n",
      "USGS_LPC_OH_Columbus_2019_B19_BS796767.laz\n",
      "USGS_LPC_OH_Columbus_2019_B19_BS797758.laz\n",
      "Downloaded file G:\\GIS Data\\Users Planning\\Projects\\MetroCenterProject\\USGS_LPC_OH_Columbus_2019_B19_BS796768.laz\n",
      "Downloaded file G:\\GIS Data\\Users Planning\\Projects\\MetroCenterProject\\USGS_LPC_OH_Columbus_2019_B19_BS797758.laz\n",
      "Downloaded file G:\\GIS Data\\Users Planning\\Projects\\MetroCenterProject\\USGS_LPC_OH_Columbus_2019_B19_BS796767.laz\n",
      "USGS_LPC_OH_Columbus_2019_B19_BS796763.laz\n",
      "Downloaded file G:\\GIS Data\\Users Planning\\Projects\\MetroCenterProject\\USGS_LPC_OH_Columbus_2019_B19_BS796763.laz\n",
      "USGS_LPC_OH_Columbus_2019_B19_BS797762.laz\n",
      "Downloaded file G:\\GIS Data\\Users Planning\\Projects\\MetroCenterProject\\USGS_LPC_OH_Columbus_2019_B19_BS797762.laz\n",
      "USGS_LPC_OH_Columbus_2019_B19_BS797767.laz\n",
      "Downloaded file G:\\GIS Data\\Users Planning\\Projects\\MetroCenterProject\\USGS_LPC_OH_Columbus_2019_B19_BS797767.laz\n",
      "USGS_LPC_OH_Columbus_2019_B19_BS798753.laz\n",
      "Downloaded file G:\\GIS Data\\Users Planning\\Projects\\MetroCenterProject\\USGS_LPC_OH_Columbus_2019_B19_BS798753.laz\n",
      "USGS_LPC_OH_Columbus_2019_B19_BS796760.laz\n",
      "Downloaded file G:\\GIS Data\\Users Planning\\Projects\\MetroCenterProject\\USGS_LPC_OH_Columbus_2019_B19_BS796760.laz\n",
      "USGS_LPC_OH_Columbus_2019_B19_BS798765.laz\n",
      "Downloaded file G:\\GIS Data\\Users Planning\\Projects\\MetroCenterProject\\USGS_LPC_OH_Columbus_2019_B19_BS798765.laz\n",
      "USGS_LPC_OH_Columbus_2019_B19_BS796758.laz\n",
      "USGS_LPC_OH_Columbus_2019_B19_BS796766.laz\n",
      "Downloaded file G:\\GIS Data\\Users Planning\\Projects\\MetroCenterProject\\USGS_LPC_OH_Columbus_2019_B19_BS796758.laz\n",
      "Downloaded file G:\\GIS Data\\Users Planning\\Projects\\MetroCenterProject\\USGS_LPC_OH_Columbus_2019_B19_BS796766.laz\n",
      "USGS_LPC_OH_Columbus_2019_B19_BS800758.laz\n",
      "Downloaded file G:\\GIS Data\\Users Planning\\Projects\\MetroCenterProject\\USGS_LPC_OH_Columbus_2019_B19_BS800758.laz\n",
      "USGS_LPC_OH_Columbus_2019_B19_BS796761.laz\n",
      "Downloaded file G:\\GIS Data\\Users Planning\\Projects\\MetroCenterProject\\USGS_LPC_OH_Columbus_2019_B19_BS796761.laz\n",
      "USGS_LPC_OH_Columbus_2019_B19_BS798755.laz\n",
      "Downloaded file G:\\GIS Data\\Users Planning\\Projects\\MetroCenterProject\\USGS_LPC_OH_Columbus_2019_B19_BS798755.laz\n",
      "USGS_LPC_OH_Columbus_2019_B19_BS798757.laz\n",
      "Downloaded file G:\\GIS Data\\Users Planning\\Projects\\MetroCenterProject\\USGS_LPC_OH_Columbus_2019_B19_BS798757.laz\n",
      "USGS_LPC_OH_Columbus_2019_B19_BS798760.laz\n",
      "USGS_LPC_OH_Columbus_2019_B19_BS798762.laz\n",
      "USGS_LPC_OH_Columbus_2019_B19_BS798756.laz\n",
      "Downloaded file G:\\GIS Data\\Users Planning\\Projects\\MetroCenterProject\\USGS_LPC_OH_Columbus_2019_B19_BS798760.laz\n",
      "Downloaded file G:\\GIS Data\\Users Planning\\Projects\\MetroCenterProject\\USGS_LPC_OH_Columbus_2019_B19_BS798762.laz\n",
      "Downloaded file G:\\GIS Data\\Users Planning\\Projects\\MetroCenterProject\\USGS_LPC_OH_Columbus_2019_B19_BS798756.laz\n",
      "USGS_LPC_OH_Columbus_2019_B19_BS798758.laz\n",
      "Downloaded file G:\\GIS Data\\Users Planning\\Projects\\MetroCenterProject\\USGS_LPC_OH_Columbus_2019_B19_BS798758.laz\n",
      "USGS_LPC_OH_Columbus_2019_B19_BS800763.laz\n",
      "USGS_LPC_OH_Columbus_2019_B19_BS800767.laz\n",
      "Downloaded file G:\\GIS Data\\Users Planning\\Projects\\MetroCenterProject\\USGS_LPC_OH_Columbus_2019_B19_BS800763.laz\n",
      "Downloaded file G:\\GIS Data\\Users Planning\\Projects\\MetroCenterProject\\USGS_LPC_OH_Columbus_2019_B19_BS800767.laz\n",
      "USGS_LPC_OH_Columbus_2019_B19_BS798768.laz\n",
      "Downloaded file G:\\GIS Data\\Users Planning\\Projects\\MetroCenterProject\\USGS_LPC_OH_Columbus_2019_B19_BS798768.laz\n",
      "USGS_LPC_OH_Columbus_2019_B19_BS800760.laz\n",
      "USGS_LPC_OH_Columbus_2019_B19_BS798767.laz\n",
      "Downloaded file G:\\GIS Data\\Users Planning\\Projects\\MetroCenterProject\\USGS_LPC_OH_Columbus_2019_B19_BS800760.laz\n",
      "Downloaded file G:\\GIS Data\\Users Planning\\Projects\\MetroCenterProject\\USGS_LPC_OH_Columbus_2019_B19_BS798767.laz\n",
      "USGS_LPC_OH_Columbus_2019_B19_BS800756.laz\n",
      "USGS_LPC_OH_Columbus_2019_B19_BS800753.laz\n",
      "Downloaded file G:\\GIS Data\\Users Planning\\Projects\\MetroCenterProject\\USGS_LPC_OH_Columbus_2019_B19_BS800756.laz\n",
      "Downloaded file G:\\GIS Data\\Users Planning\\Projects\\MetroCenterProject\\USGS_LPC_OH_Columbus_2019_B19_BS800753.laz\n",
      "USGS_LPC_OH_Columbus_2019_B19_BS798766.laz\n",
      "Downloaded file G:\\GIS Data\\Users Planning\\Projects\\MetroCenterProject\\USGS_LPC_OH_Columbus_2019_B19_BS798766.laz\n",
      "USGS_LPC_OH_Columbus_2019_B19_BS800768.laz\n",
      "USGS_LPC_OH_Columbus_2019_B19_BS798763.laz\n",
      "Downloaded file G:\\GIS Data\\Users Planning\\Projects\\MetroCenterProject\\USGS_LPC_OH_Columbus_2019_B19_BS800768.laz\n",
      "Downloaded file G:\\GIS Data\\Users Planning\\Projects\\MetroCenterProject\\USGS_LPC_OH_Columbus_2019_B19_BS798763.laz\n",
      "USGS_LPC_OH_Columbus_2019_B19_BS801762.laz\n",
      "Downloaded file G:\\GIS Data\\Users Planning\\Projects\\MetroCenterProject\\USGS_LPC_OH_Columbus_2019_B19_BS801762.laz\n",
      "USGS_LPC_OH_Columbus_2019_B19_BS801756.laz\n",
      "Downloaded file G:\\GIS Data\\Users Planning\\Projects\\MetroCenterProject\\USGS_LPC_OH_Columbus_2019_B19_BS801756.laz\n",
      "USGS_LPC_OH_Columbus_2019_B19_BS800755.laz\n",
      "Downloaded file G:\\GIS Data\\Users Planning\\Projects\\MetroCenterProject\\USGS_LPC_OH_Columbus_2019_B19_BS800755.laz\n",
      "USGS_LPC_OH_Columbus_2019_B19_BS801760.laz\n",
      "Downloaded file G:\\GIS Data\\Users Planning\\Projects\\MetroCenterProject\\USGS_LPC_OH_Columbus_2019_B19_BS801760.laz\n",
      "USGS_LPC_OH_Columbus_2019_B19_BS798761.laz\n",
      "Downloaded file G:\\GIS Data\\Users Planning\\Projects\\MetroCenterProject\\USGS_LPC_OH_Columbus_2019_B19_BS798761.laz\n",
      "USGS_LPC_OH_Columbus_2019_B19_BS800765.laz\n",
      "Downloaded file G:\\GIS Data\\Users Planning\\Projects\\MetroCenterProject\\USGS_LPC_OH_Columbus_2019_B19_BS800765.laz\n",
      "USGS_LPC_OH_Columbus_2019_B19_BS801758.laz\n",
      "Downloaded file G:\\GIS Data\\Users Planning\\Projects\\MetroCenterProject\\USGS_LPC_OH_Columbus_2019_B19_BS801758.laz\n",
      "USGS_LPC_OH_Columbus_2019_B19_BS800757.laz\n",
      "Downloaded file G:\\GIS Data\\Users Planning\\Projects\\MetroCenterProject\\USGS_LPC_OH_Columbus_2019_B19_BS800757.laz\n",
      "USGS_LPC_OH_Columbus_2019_B19_BS801766.laz\n",
      "USGS_LPC_OH_Columbus_2019_B19_BS800761.laz\n",
      "Downloaded file G:\\GIS Data\\Users Planning\\Projects\\MetroCenterProject\\USGS_LPC_OH_Columbus_2019_B19_BS801766.laz\n",
      "Downloaded file G:\\GIS Data\\Users Planning\\Projects\\MetroCenterProject\\USGS_LPC_OH_Columbus_2019_B19_BS800761.laz\n",
      "USGS_LPC_OH_Columbus_2019_B19_BS800762.laz\n",
      "Downloaded file G:\\GIS Data\\Users Planning\\Projects\\MetroCenterProject\\USGS_LPC_OH_Columbus_2019_B19_BS800762.laz\n",
      "USGS_LPC_OH_Columbus_2019_B19_BS801757.laz\n",
      "Downloaded file G:\\GIS Data\\Users Planning\\Projects\\MetroCenterProject\\USGS_LPC_OH_Columbus_2019_B19_BS801757.laz\n",
      "USGS_LPC_OH_Columbus_2019_B19_BS802766.laz\n",
      "Downloaded file G:\\GIS Data\\Users Planning\\Projects\\MetroCenterProject\\USGS_LPC_OH_Columbus_2019_B19_BS802766.laz\n",
      "USGS_LPC_OH_Columbus_2019_B19_BS801768.laz\n",
      "Downloaded file G:\\GIS Data\\Users Planning\\Projects\\MetroCenterProject\\USGS_LPC_OH_Columbus_2019_B19_BS801768.laz\n",
      "USGS_LPC_OH_Columbus_2019_B19_BS801761.laz\n",
      "Downloaded file G:\\GIS Data\\Users Planning\\Projects\\MetroCenterProject\\USGS_LPC_OH_Columbus_2019_B19_BS801761.laz\n",
      "USGS_LPC_OH_Columbus_2019_B19_BS801763.laz\n",
      "Downloaded file G:\\GIS Data\\Users Planning\\Projects\\MetroCenterProject\\USGS_LPC_OH_Columbus_2019_B19_BS801763.laz\n",
      "USGS_LPC_OH_Columbus_2019_B19_BS800766.laz\n",
      "Downloaded file G:\\GIS Data\\Users Planning\\Projects\\MetroCenterProject\\USGS_LPC_OH_Columbus_2019_B19_BS800766.laz\n",
      "USGS_LPC_OH_Columbus_2019_B19_BS801765.laz\n",
      "Downloaded file G:\\GIS Data\\Users Planning\\Projects\\MetroCenterProject\\USGS_LPC_OH_Columbus_2019_B19_BS801765.laz\n",
      "USGS_LPC_OH_Columbus_2019_B19_BS803753.laz\n",
      "Downloaded file G:\\GIS Data\\Users Planning\\Projects\\MetroCenterProject\\USGS_LPC_OH_Columbus_2019_B19_BS803753.laz\n",
      "USGS_LPC_OH_Columbus_2019_B19_BS802756.laz\n",
      "Downloaded file G:\\GIS Data\\Users Planning\\Projects\\MetroCenterProject\\USGS_LPC_OH_Columbus_2019_B19_BS802756.laz\n",
      "USGS_LPC_OH_Columbus_2019_B19_BS803756.laz\n",
      "Downloaded file G:\\GIS Data\\Users Planning\\Projects\\MetroCenterProject\\USGS_LPC_OH_Columbus_2019_B19_BS803756.laz\n",
      "USGS_LPC_OH_Columbus_2019_B19_BS802762.laz\n",
      "Downloaded file G:\\GIS Data\\Users Planning\\Projects\\MetroCenterProject\\USGS_LPC_OH_Columbus_2019_B19_BS802762.laz\n",
      "USGS_LPC_OH_Columbus_2019_B19_BS802763.laz\n",
      "Downloaded file G:\\GIS Data\\Users Planning\\Projects\\MetroCenterProject\\USGS_LPC_OH_Columbus_2019_B19_BS802763.laz\n",
      "USGS_LPC_OH_Columbus_2019_B19_BS802758.laz\n",
      "USGS_LPC_OH_Columbus_2019_B19_BS801753.laz\n",
      "USGS_LPC_OH_Columbus_2019_B19_BS801767.laz\n",
      "USGS_LPC_OH_Columbus_2019_B19_BS802755.laz\n",
      "Downloaded file G:\\GIS Data\\Users Planning\\Projects\\MetroCenterProject\\USGS_LPC_OH_Columbus_2019_B19_BS802758.laz\n",
      "USGS_LPC_OH_Columbus_2019_B19_BS802767.laz\n",
      "Downloaded file G:\\GIS Data\\Users Planning\\Projects\\MetroCenterProject\\USGS_LPC_OH_Columbus_2019_B19_BS801753.laz\n",
      "Downloaded file G:\\GIS Data\\Users Planning\\Projects\\MetroCenterProject\\USGS_LPC_OH_Columbus_2019_B19_BS802755.laz\n",
      "Downloaded file G:\\GIS Data\\Users Planning\\Projects\\MetroCenterProject\\USGS_LPC_OH_Columbus_2019_B19_BS801767.laz\n",
      "Downloaded file G:\\GIS Data\\Users Planning\\Projects\\MetroCenterProject\\USGS_LPC_OH_Columbus_2019_B19_BS802767.laz\n",
      "USGS_LPC_OH_Columbus_2019_B19_BS801755.laz\n",
      "USGS_LPC_OH_Columbus_2019_B19_BS803755.laz\n",
      "USGS_LPC_OH_Columbus_2019_B19_BS802765.laz\n",
      "USGS_LPC_OH_Columbus_2019_B19_BS803761.laz\n",
      "Downloaded file G:\\GIS Data\\Users Planning\\Projects\\MetroCenterProject\\USGS_LPC_OH_Columbus_2019_B19_BS801755.laz\n",
      "Downloaded file G:\\GIS Data\\Users Planning\\Projects\\MetroCenterProject\\USGS_LPC_OH_Columbus_2019_B19_BS802765.laz\n",
      "Downloaded file G:\\GIS Data\\Users Planning\\Projects\\MetroCenterProject\\USGS_LPC_OH_Columbus_2019_B19_BS803755.laz\n",
      "Downloaded file G:\\GIS Data\\Users Planning\\Projects\\MetroCenterProject\\USGS_LPC_OH_Columbus_2019_B19_BS803761.laz\n",
      "USGS_LPC_OH_Columbus_2019_B19_BS802757.laz\n",
      "Downloaded file G:\\GIS Data\\Users Planning\\Projects\\MetroCenterProject\\USGS_LPC_OH_Columbus_2019_B19_BS802757.laz\n",
      "USGS_LPC_OH_Columbus_2019_B19_BS802761.laz\n",
      "Downloaded file G:\\GIS Data\\Users Planning\\Projects\\MetroCenterProject\\USGS_LPC_OH_Columbus_2019_B19_BS802761.laz\n",
      "USGS_LPC_OH_Columbus_2019_B19_BS802760.laz\n",
      "Downloaded file G:\\GIS Data\\Users Planning\\Projects\\MetroCenterProject\\USGS_LPC_OH_Columbus_2019_B19_BS802760.laz\n",
      "USGS_LPC_OH_Columbus_2019_B19_BS803768.laz\n",
      "USGS_LPC_OH_Columbus_2019_B19_BS803767.laz\n",
      "Downloaded file G:\\GIS Data\\Users Planning\\Projects\\MetroCenterProject\\USGS_LPC_OH_Columbus_2019_B19_BS803768.laz\n",
      "Downloaded file G:\\GIS Data\\Users Planning\\Projects\\MetroCenterProject\\USGS_LPC_OH_Columbus_2019_B19_BS803767.laz\n",
      "USGS_LPC_OH_Columbus_2019_B19_BS802753.laz\n",
      "Downloaded file G:\\GIS Data\\Users Planning\\Projects\\MetroCenterProject\\USGS_LPC_OH_Columbus_2019_B19_BS802753.laz\n",
      "USGS_LPC_OH_Columbus_2019_B19_BS803757.laz\n",
      "Downloaded file G:\\GIS Data\\Users Planning\\Projects\\MetroCenterProject\\USGS_LPC_OH_Columbus_2019_B19_BS803757.laz\n",
      "USGS_LPC_OH_Columbus_2019_B19_BS803760.laz\n",
      "Downloaded file G:\\GIS Data\\Users Planning\\Projects\\MetroCenterProject\\USGS_LPC_OH_Columbus_2019_B19_BS803760.laz\n",
      "USGS_LPC_OH_Columbus_2019_B19_BS802768.laz\n",
      "Downloaded file G:\\GIS Data\\Users Planning\\Projects\\MetroCenterProject\\USGS_LPC_OH_Columbus_2019_B19_BS802768.laz\n",
      "USGS_LPC_OH_Columbus_2019_B19_BS803758.laz\n",
      "Downloaded file G:\\GIS Data\\Users Planning\\Projects\\MetroCenterProject\\USGS_LPC_OH_Columbus_2019_B19_BS803758.laz\n",
      "USGS_LPC_OH_Columbus_2019_B19_BS803762.laz\n",
      "Downloaded file G:\\GIS Data\\Users Planning\\Projects\\MetroCenterProject\\USGS_LPC_OH_Columbus_2019_B19_BS803762.laz\n",
      "USGS_LPC_OH_Columbus_2019_B19_BS803763.laz\n",
      "Downloaded file G:\\GIS Data\\Users Planning\\Projects\\MetroCenterProject\\USGS_LPC_OH_Columbus_2019_B19_BS803763.laz\n",
      "USGS_LPC_OH_Columbus_2019_B19_BS803765.laz\n",
      "Downloaded file G:\\GIS Data\\Users Planning\\Projects\\MetroCenterProject\\USGS_LPC_OH_Columbus_2019_B19_BS803765.laz\n",
      "USGS_LPC_OH_Columbus_2019_B19_BS803766.laz\n",
      "Downloaded file G:\\GIS Data\\Users Planning\\Projects\\MetroCenterProject\\USGS_LPC_OH_Columbus_2019_B19_BS803766.laz\n"
     ]
    }
   ],
   "source": [
    "with ThreadPoolExecutor() as executor:\n",
    "    executor.map(download_file, urls)\n",
    "\n",
    "print(\"Downlaods Complete\")"
   ]
  },
  {
   "cell_type": "markdown",
   "metadata": {},
   "source": [
    "# Convert a folder of lidar `.laz` files to `.las` in batch\n",
    "\n",
    "## Requirements\n",
    "\n",
    "* folder with `.laz` files, i.e. downloaded in previous section\n",
    "\n",
    "## Purpose\n",
    "* Lidar point cloud data is often provided in `.laz` files; such as from the USGS. Esri-ware works best with `.las` file formats\n",
    "* Often many lidar point cloud tiles are needed to be merged for the area of interest.\n",
    "* This process will run the ConvertLas() `arcpy` method on a folder containing `.laz` files, and convert each to `.las` in a destination folder.\n",
    "\n",
    "#### General steps\n",
    "* define origin folder containing .laz files\n",
    "* define destination folder for .las files in current working directory\n",
    "* create a list of all .laz files in origin folder\n",
    "* iterate on this list and convert each to .las sent to the destination folder."
   ]
  },
  {
   "cell_type": "markdown",
   "metadata": {},
   "source": [
    "## Define origin and destination folders (create if needed)\n",
    "\n",
    "### You likely created this folder in the previous step\n",
    "\n",
    "i.e. this is a folder named \"lidar\" in the current working directory, but can specify it otherwise"
   ]
  },
  {
   "cell_type": "code",
   "execution_count": 91,
   "metadata": {},
   "outputs": [
    {
     "name": "stdout",
     "output_type": "stream",
     "text": [
      "origin folder of .laz to convert:  G:\\GIS Data\\Users Planning\\Projects\\MetroCenterProject\\lidar\n"
     ]
    }
   ],
   "source": [
    "# def origin folder containing .laz files in the cwd\n",
    "\n",
    "# In this c\n",
    "org_fold = os.path.join(os.getcwd(), \"lidar\")\n",
    "print(\"origin folder of .laz to convert: \", org_fold)"
   ]
  },
  {
   "cell_type": "code",
   "execution_count": 89,
   "metadata": {},
   "outputs": [
    {
     "name": "stdout",
     "output_type": "stream",
     "text": [
      "destination of .las files:  G:\\GIS Data\\Users Planning\\Projects\\MetroCenterProject\\LidarLas\n"
     ]
    }
   ],
   "source": [
    "# destination folder for the .las files\n",
    "dest_fold = \"LidarLas\"\n",
    "\n",
    "# create the destination folder if it doesn't exist\n",
    "if not os.path.exists(dest_fold):\n",
    "    \n",
    "    # make the folder\n",
    "    print(\"Ope, looks like that folder doesn't exist yet, no worries, I'll make that now.\")\n",
    "    os.makedirs(dest_fold)\n",
    "    \n",
    "    # check it's made\n",
    "    print(\"\\t Does it exist now? \", os.path.exists(dest_fold))\n",
    "print(\"destination of .las files: \", os.path.abspath(dest_fold))"
   ]
  },
  {
   "cell_type": "markdown",
   "metadata": {},
   "source": [
    "## Get list of `.laz` files in folder"
   ]
  },
  {
   "cell_type": "code",
   "execution_count": 132,
   "metadata": {},
   "outputs": [
    {
     "name": "stdout",
     "output_type": "stream",
     "text": [
      "USGS_LPC_OH_Columbus_2019_B19_BS785753.laz  added to file list\n",
      "USGS_LPC_OH_Columbus_2019_B19_BS785755.laz  added to file list\n",
      "USGS_LPC_OH_Columbus_2019_B19_BS785756.laz  added to file list\n",
      "USGS_LPC_OH_Columbus_2019_B19_BS785757.laz  added to file list\n",
      "USGS_LPC_OH_Columbus_2019_B19_BS785758.laz  added to file list\n",
      "USGS_LPC_OH_Columbus_2019_B19_BS785760.laz  added to file list\n",
      "USGS_LPC_OH_Columbus_2019_B19_BS785761.laz  added to file list\n",
      "USGS_LPC_OH_Columbus_2019_B19_BS785762.laz  added to file list\n",
      "USGS_LPC_OH_Columbus_2019_B19_BS785763.laz  added to file list\n",
      "USGS_LPC_OH_Columbus_2019_B19_BS785765.laz  added to file list\n",
      "USGS_LPC_OH_Columbus_2019_B19_BS785766.laz  added to file list\n",
      "USGS_LPC_OH_Columbus_2019_B19_BS785767.laz  added to file list\n",
      "USGS_LPC_OH_Columbus_2019_B19_BS785768.laz  added to file list\n",
      "USGS_LPC_OH_Columbus_2019_B19_BS786753.laz  added to file list\n",
      "USGS_LPC_OH_Columbus_2019_B19_BS786755.laz  added to file list\n",
      "USGS_LPC_OH_Columbus_2019_B19_BS786756.laz  added to file list\n",
      "USGS_LPC_OH_Columbus_2019_B19_BS786757.laz  added to file list\n",
      "USGS_LPC_OH_Columbus_2019_B19_BS786758.laz  added to file list\n",
      "USGS_LPC_OH_Columbus_2019_B19_BS786760.laz  added to file list\n",
      "USGS_LPC_OH_Columbus_2019_B19_BS786761.laz  added to file list\n",
      "USGS_LPC_OH_Columbus_2019_B19_BS786762.laz  added to file list\n",
      "USGS_LPC_OH_Columbus_2019_B19_BS786763.laz  added to file list\n",
      "USGS_LPC_OH_Columbus_2019_B19_BS786765.laz  added to file list\n",
      "USGS_LPC_OH_Columbus_2019_B19_BS786766.laz  added to file list\n",
      "USGS_LPC_OH_Columbus_2019_B19_BS786767.laz  added to file list\n",
      "USGS_LPC_OH_Columbus_2019_B19_BS786768.laz  added to file list\n",
      "USGS_LPC_OH_Columbus_2019_B19_BS787753.laz  added to file list\n",
      "USGS_LPC_OH_Columbus_2019_B19_BS787755.laz  added to file list\n",
      "USGS_LPC_OH_Columbus_2019_B19_BS787756.laz  added to file list\n",
      "USGS_LPC_OH_Columbus_2019_B19_BS787757.laz  added to file list\n",
      "USGS_LPC_OH_Columbus_2019_B19_BS787758.laz  added to file list\n",
      "USGS_LPC_OH_Columbus_2019_B19_BS787760.laz  added to file list\n",
      "USGS_LPC_OH_Columbus_2019_B19_BS787761.laz  added to file list\n",
      "USGS_LPC_OH_Columbus_2019_B19_BS787762.laz  added to file list\n",
      "USGS_LPC_OH_Columbus_2019_B19_BS787763.laz  added to file list\n",
      "USGS_LPC_OH_Columbus_2019_B19_BS787765.laz  added to file list\n",
      "USGS_LPC_OH_Columbus_2019_B19_BS787766.laz  added to file list\n",
      "USGS_LPC_OH_Columbus_2019_B19_BS787767.laz  added to file list\n",
      "USGS_LPC_OH_Columbus_2019_B19_BS787768.laz  added to file list\n",
      "USGS_LPC_OH_Columbus_2019_B19_BS788753.laz  added to file list\n",
      "USGS_LPC_OH_Columbus_2019_B19_BS788755.laz  added to file list\n",
      "USGS_LPC_OH_Columbus_2019_B19_BS788756.laz  added to file list\n",
      "USGS_LPC_OH_Columbus_2019_B19_BS788757.laz  added to file list\n",
      "USGS_LPC_OH_Columbus_2019_B19_BS788758.laz  added to file list\n",
      "USGS_LPC_OH_Columbus_2019_B19_BS788760.laz  added to file list\n",
      "USGS_LPC_OH_Columbus_2019_B19_BS788761.laz  added to file list\n",
      "USGS_LPC_OH_Columbus_2019_B19_BS788762.laz  added to file list\n",
      "USGS_LPC_OH_Columbus_2019_B19_BS788763.laz  added to file list\n",
      "USGS_LPC_OH_Columbus_2019_B19_BS788765.laz  added to file list\n",
      "USGS_LPC_OH_Columbus_2019_B19_BS788766.laz  added to file list\n",
      "USGS_LPC_OH_Columbus_2019_B19_BS788767.laz  added to file list\n",
      "USGS_LPC_OH_Columbus_2019_B19_BS788768.laz  added to file list\n",
      "USGS_LPC_OH_Columbus_2019_B19_BS790753.laz  added to file list\n",
      "USGS_LPC_OH_Columbus_2019_B19_BS790755.laz  added to file list\n",
      "USGS_LPC_OH_Columbus_2019_B19_BS790756.laz  added to file list\n",
      "USGS_LPC_OH_Columbus_2019_B19_BS790757.laz  added to file list\n",
      "USGS_LPC_OH_Columbus_2019_B19_BS790758.laz  added to file list\n",
      "USGS_LPC_OH_Columbus_2019_B19_BS790760.laz  added to file list\n",
      "USGS_LPC_OH_Columbus_2019_B19_BS790761.laz  added to file list\n",
      "USGS_LPC_OH_Columbus_2019_B19_BS790762.laz  added to file list\n",
      "USGS_LPC_OH_Columbus_2019_B19_BS790763.laz  added to file list\n",
      "USGS_LPC_OH_Columbus_2019_B19_BS790765.laz  added to file list\n",
      "USGS_LPC_OH_Columbus_2019_B19_BS790766.laz  added to file list\n",
      "USGS_LPC_OH_Columbus_2019_B19_BS790767.laz  added to file list\n",
      "USGS_LPC_OH_Columbus_2019_B19_BS790768.laz  added to file list\n",
      "USGS_LPC_OH_Columbus_2019_B19_BS791753.laz  added to file list\n",
      "USGS_LPC_OH_Columbus_2019_B19_BS791755.laz  added to file list\n",
      "USGS_LPC_OH_Columbus_2019_B19_BS791756.laz  added to file list\n",
      "USGS_LPC_OH_Columbus_2019_B19_BS791757.laz  added to file list\n",
      "USGS_LPC_OH_Columbus_2019_B19_BS791758.laz  added to file list\n",
      "USGS_LPC_OH_Columbus_2019_B19_BS791760.laz  added to file list\n",
      "USGS_LPC_OH_Columbus_2019_B19_BS791761.laz  added to file list\n",
      "USGS_LPC_OH_Columbus_2019_B19_BS791762.laz  added to file list\n",
      "USGS_LPC_OH_Columbus_2019_B19_BS791763.laz  added to file list\n",
      "USGS_LPC_OH_Columbus_2019_B19_BS791765.laz  added to file list\n",
      "USGS_LPC_OH_Columbus_2019_B19_BS791766.laz  added to file list\n",
      "USGS_LPC_OH_Columbus_2019_B19_BS791767.laz  added to file list\n",
      "USGS_LPC_OH_Columbus_2019_B19_BS791768.laz  added to file list\n",
      "USGS_LPC_OH_Columbus_2019_B19_BS792753.laz  added to file list\n",
      "USGS_LPC_OH_Columbus_2019_B19_BS792755.laz  added to file list\n",
      "USGS_LPC_OH_Columbus_2019_B19_BS792756.laz  added to file list\n",
      "USGS_LPC_OH_Columbus_2019_B19_BS792757.laz  added to file list\n",
      "USGS_LPC_OH_Columbus_2019_B19_BS792758.laz  added to file list\n",
      "USGS_LPC_OH_Columbus_2019_B19_BS792760.laz  added to file list\n",
      "USGS_LPC_OH_Columbus_2019_B19_BS792761.laz  added to file list\n",
      "USGS_LPC_OH_Columbus_2019_B19_BS792762.laz  added to file list\n",
      "USGS_LPC_OH_Columbus_2019_B19_BS792763.laz  added to file list\n",
      "USGS_LPC_OH_Columbus_2019_B19_BS792765.laz  added to file list\n",
      "USGS_LPC_OH_Columbus_2019_B19_BS792766.laz  added to file list\n",
      "USGS_LPC_OH_Columbus_2019_B19_BS792767.laz  added to file list\n",
      "USGS_LPC_OH_Columbus_2019_B19_BS792768.laz  added to file list\n",
      "USGS_LPC_OH_Columbus_2019_B19_BS793753.laz  added to file list\n",
      "USGS_LPC_OH_Columbus_2019_B19_BS793755.laz  added to file list\n",
      "USGS_LPC_OH_Columbus_2019_B19_BS793756.laz  added to file list\n",
      "USGS_LPC_OH_Columbus_2019_B19_BS793757.laz  added to file list\n",
      "USGS_LPC_OH_Columbus_2019_B19_BS793758.laz  added to file list\n",
      "USGS_LPC_OH_Columbus_2019_B19_BS793760.laz  added to file list\n",
      "USGS_LPC_OH_Columbus_2019_B19_BS793761.laz  added to file list\n",
      "USGS_LPC_OH_Columbus_2019_B19_BS793762.laz  added to file list\n",
      "USGS_LPC_OH_Columbus_2019_B19_BS793763.laz  added to file list\n",
      "USGS_LPC_OH_Columbus_2019_B19_BS793765.laz  added to file list\n",
      "USGS_LPC_OH_Columbus_2019_B19_BS793766.laz  added to file list\n",
      "USGS_LPC_OH_Columbus_2019_B19_BS793767.laz  added to file list\n",
      "USGS_LPC_OH_Columbus_2019_B19_BS793768.laz  added to file list\n",
      "USGS_LPC_OH_Columbus_2019_B19_BS795753.laz  added to file list\n",
      "USGS_LPC_OH_Columbus_2019_B19_BS795755.laz  added to file list\n",
      "USGS_LPC_OH_Columbus_2019_B19_BS795756.laz  added to file list\n",
      "USGS_LPC_OH_Columbus_2019_B19_BS795757.laz  added to file list\n",
      "USGS_LPC_OH_Columbus_2019_B19_BS795758.laz  added to file list\n",
      "USGS_LPC_OH_Columbus_2019_B19_BS795760.laz  added to file list\n",
      "USGS_LPC_OH_Columbus_2019_B19_BS795761.laz  added to file list\n",
      "USGS_LPC_OH_Columbus_2019_B19_BS795762.laz  added to file list\n",
      "USGS_LPC_OH_Columbus_2019_B19_BS795763.laz  added to file list\n",
      "USGS_LPC_OH_Columbus_2019_B19_BS795765.laz  added to file list\n",
      "USGS_LPC_OH_Columbus_2019_B19_BS795766.laz  added to file list\n",
      "USGS_LPC_OH_Columbus_2019_B19_BS795767.laz  added to file list\n",
      "USGS_LPC_OH_Columbus_2019_B19_BS795768.laz  added to file list\n",
      "USGS_LPC_OH_Columbus_2019_B19_BS796753.laz  added to file list\n",
      "USGS_LPC_OH_Columbus_2019_B19_BS796755.laz  added to file list\n",
      "USGS_LPC_OH_Columbus_2019_B19_BS796756.laz  added to file list\n",
      "USGS_LPC_OH_Columbus_2019_B19_BS796757.laz  added to file list\n",
      "USGS_LPC_OH_Columbus_2019_B19_BS796758.laz  added to file list\n",
      "USGS_LPC_OH_Columbus_2019_B19_BS796760.laz  added to file list\n",
      "USGS_LPC_OH_Columbus_2019_B19_BS796761.laz  added to file list\n",
      "USGS_LPC_OH_Columbus_2019_B19_BS796762.laz  added to file list\n",
      "USGS_LPC_OH_Columbus_2019_B19_BS796763.laz  added to file list\n",
      "USGS_LPC_OH_Columbus_2019_B19_BS796765.laz  added to file list\n",
      "USGS_LPC_OH_Columbus_2019_B19_BS796766.laz  added to file list\n",
      "USGS_LPC_OH_Columbus_2019_B19_BS796767.laz  added to file list\n",
      "USGS_LPC_OH_Columbus_2019_B19_BS796768.laz  added to file list\n",
      "USGS_LPC_OH_Columbus_2019_B19_BS797753.laz  added to file list\n",
      "USGS_LPC_OH_Columbus_2019_B19_BS797755.laz  added to file list\n",
      "USGS_LPC_OH_Columbus_2019_B19_BS797756.laz  added to file list\n",
      "USGS_LPC_OH_Columbus_2019_B19_BS797757.laz  added to file list\n",
      "USGS_LPC_OH_Columbus_2019_B19_BS797758.laz  added to file list\n",
      "USGS_LPC_OH_Columbus_2019_B19_BS797760.laz  added to file list\n",
      "USGS_LPC_OH_Columbus_2019_B19_BS797761.laz  added to file list\n",
      "USGS_LPC_OH_Columbus_2019_B19_BS797762.laz  added to file list\n",
      "USGS_LPC_OH_Columbus_2019_B19_BS797763.laz  added to file list\n",
      "USGS_LPC_OH_Columbus_2019_B19_BS797765.laz  added to file list\n",
      "USGS_LPC_OH_Columbus_2019_B19_BS797766.laz  added to file list\n",
      "USGS_LPC_OH_Columbus_2019_B19_BS797767.laz  added to file list\n",
      "USGS_LPC_OH_Columbus_2019_B19_BS797768.laz  added to file list\n",
      "USGS_LPC_OH_Columbus_2019_B19_BS798753.laz  added to file list\n",
      "USGS_LPC_OH_Columbus_2019_B19_BS798755.laz  added to file list\n",
      "USGS_LPC_OH_Columbus_2019_B19_BS798756.laz  added to file list\n",
      "USGS_LPC_OH_Columbus_2019_B19_BS798757.laz  added to file list\n",
      "USGS_LPC_OH_Columbus_2019_B19_BS798758.laz  added to file list\n",
      "USGS_LPC_OH_Columbus_2019_B19_BS798760.laz  added to file list\n",
      "USGS_LPC_OH_Columbus_2019_B19_BS798761.laz  added to file list\n",
      "USGS_LPC_OH_Columbus_2019_B19_BS798762.laz  added to file list\n",
      "USGS_LPC_OH_Columbus_2019_B19_BS798763.laz  added to file list\n",
      "USGS_LPC_OH_Columbus_2019_B19_BS798765.laz  added to file list\n",
      "USGS_LPC_OH_Columbus_2019_B19_BS798766.laz  added to file list\n",
      "USGS_LPC_OH_Columbus_2019_B19_BS798767.laz  added to file list\n",
      "USGS_LPC_OH_Columbus_2019_B19_BS798768.laz  added to file list\n",
      "USGS_LPC_OH_Columbus_2019_B19_BS800753.laz  added to file list\n",
      "USGS_LPC_OH_Columbus_2019_B19_BS800755.laz  added to file list\n",
      "USGS_LPC_OH_Columbus_2019_B19_BS800756.laz  added to file list\n",
      "USGS_LPC_OH_Columbus_2019_B19_BS800757.laz  added to file list\n",
      "USGS_LPC_OH_Columbus_2019_B19_BS800758.laz  added to file list\n",
      "USGS_LPC_OH_Columbus_2019_B19_BS800760.laz  added to file list\n",
      "USGS_LPC_OH_Columbus_2019_B19_BS800761.laz  added to file list\n",
      "USGS_LPC_OH_Columbus_2019_B19_BS800762.laz  added to file list\n",
      "USGS_LPC_OH_Columbus_2019_B19_BS800763.laz  added to file list\n",
      "USGS_LPC_OH_Columbus_2019_B19_BS800765.laz  added to file list\n",
      "USGS_LPC_OH_Columbus_2019_B19_BS800766.laz  added to file list\n",
      "USGS_LPC_OH_Columbus_2019_B19_BS800767.laz  added to file list\n",
      "USGS_LPC_OH_Columbus_2019_B19_BS800768.laz  added to file list\n",
      "USGS_LPC_OH_Columbus_2019_B19_BS801753.laz  added to file list\n",
      "USGS_LPC_OH_Columbus_2019_B19_BS801755.laz  added to file list\n",
      "USGS_LPC_OH_Columbus_2019_B19_BS801756.laz  added to file list\n",
      "USGS_LPC_OH_Columbus_2019_B19_BS801757.laz  added to file list\n",
      "USGS_LPC_OH_Columbus_2019_B19_BS801758.laz  added to file list\n",
      "USGS_LPC_OH_Columbus_2019_B19_BS801760.laz  added to file list\n",
      "USGS_LPC_OH_Columbus_2019_B19_BS801761.laz  added to file list\n",
      "USGS_LPC_OH_Columbus_2019_B19_BS801762.laz  added to file list\n",
      "USGS_LPC_OH_Columbus_2019_B19_BS801763.laz  added to file list\n",
      "USGS_LPC_OH_Columbus_2019_B19_BS801765.laz  added to file list\n",
      "USGS_LPC_OH_Columbus_2019_B19_BS801766.laz  added to file list\n",
      "USGS_LPC_OH_Columbus_2019_B19_BS801767.laz  added to file list\n",
      "USGS_LPC_OH_Columbus_2019_B19_BS801768.laz  added to file list\n",
      "USGS_LPC_OH_Columbus_2019_B19_BS802753.laz  added to file list\n",
      "USGS_LPC_OH_Columbus_2019_B19_BS802755.laz  added to file list\n",
      "USGS_LPC_OH_Columbus_2019_B19_BS802756.laz  added to file list\n",
      "USGS_LPC_OH_Columbus_2019_B19_BS802757.laz  added to file list\n",
      "USGS_LPC_OH_Columbus_2019_B19_BS802758.laz  added to file list\n",
      "USGS_LPC_OH_Columbus_2019_B19_BS802760.laz  added to file list\n",
      "USGS_LPC_OH_Columbus_2019_B19_BS802761.laz  added to file list\n",
      "USGS_LPC_OH_Columbus_2019_B19_BS802762.laz  added to file list\n",
      "USGS_LPC_OH_Columbus_2019_B19_BS802763.laz  added to file list\n",
      "USGS_LPC_OH_Columbus_2019_B19_BS802765.laz  added to file list\n",
      "USGS_LPC_OH_Columbus_2019_B19_BS802766.laz  added to file list\n",
      "USGS_LPC_OH_Columbus_2019_B19_BS802767.laz  added to file list\n",
      "USGS_LPC_OH_Columbus_2019_B19_BS802768.laz  added to file list\n",
      "USGS_LPC_OH_Columbus_2019_B19_BS803753.laz  added to file list\n",
      "USGS_LPC_OH_Columbus_2019_B19_BS803755.laz  added to file list\n",
      "USGS_LPC_OH_Columbus_2019_B19_BS803756.laz  added to file list\n",
      "USGS_LPC_OH_Columbus_2019_B19_BS803757.laz  added to file list\n",
      "USGS_LPC_OH_Columbus_2019_B19_BS803758.laz  added to file list\n",
      "USGS_LPC_OH_Columbus_2019_B19_BS803760.laz  added to file list\n",
      "USGS_LPC_OH_Columbus_2019_B19_BS803761.laz  added to file list\n",
      "USGS_LPC_OH_Columbus_2019_B19_BS803762.laz  added to file list\n",
      "USGS_LPC_OH_Columbus_2019_B19_BS803763.laz  added to file list\n",
      "USGS_LPC_OH_Columbus_2019_B19_BS803765.laz  added to file list\n",
      "USGS_LPC_OH_Columbus_2019_B19_BS803766.laz  added to file list\n",
      "USGS_LPC_OH_Columbus_2019_B19_BS803767.laz  added to file list\n",
      "USGS_LPC_OH_Columbus_2019_B19_BS803768.laz  added to file list\n",
      "\n",
      "Total files found:  208\n"
     ]
    }
   ],
   "source": [
    "laz_files = []\n",
    "\n",
    "for f in os.listdir(org_fold):\n",
    "    if f.endswith(\".laz\"):\n",
    "        laz_files.append(f)\n",
    "        print(f, \" added to file list\")\n",
    "        \n",
    "tot_files =   len(laz_files)      \n",
    "print(\"\\nTotal files found: \",tot_files )"
   ]
  },
  {
   "cell_type": "markdown",
   "metadata": {},
   "source": [
    "### Some error handling for future runs\n",
    "\n",
    "When running this with large number of files, i.e. 207, it got through 200 of them then crashed, so adding some checking first to see if files are already in the destionation folder so you can rerun this code and only reprocess those that were not done the first time around"
   ]
  },
  {
   "cell_type": "code",
   "execution_count": 133,
   "metadata": {
    "scrolled": true
   },
   "outputs": [
    {
     "name": "stdout",
     "output_type": "stream",
     "text": [
      "\n",
      "Files in original total list 208\n",
      "\n",
      "Total files done:  207\n"
     ]
    }
   ],
   "source": [
    "# check if files already exist; skip those.\n",
    "# this is useful if started a large batch and didn't work on all of them.\n",
    "files_done = []\n",
    "\n",
    "for f in os.listdir(dest_fold):\n",
    "    if f.endswith(\".las\"):\n",
    "        files_done.append(f)\n",
    "        #print(f, \" added to file done list\")\n",
    "        \n",
    "tot_files_done =   len(files_done)\n",
    "print(\"\\nFiles in original total list\", tot_files)\n",
    "print(\"\\nTotal files done: \",tot_files_done )"
   ]
  },
  {
   "cell_type": "markdown",
   "metadata": {},
   "source": [
    "### Create a Files To Do list\n",
    "* Compare **files done vs original list**"
   ]
  },
  {
   "cell_type": "code",
   "execution_count": 134,
   "metadata": {},
   "outputs": [
    {
     "name": "stdout",
     "output_type": "stream",
     "text": [
      "LAZ files that have not yet been converted:\n",
      "  ['USGS_LPC_OH_Columbus_2019_B19_BS787761.laz']\n"
     ]
    }
   ],
   "source": [
    "# remove file extensions (.laz and .las) to compare the file names form origin to done list.\n",
    "laz_no_ext = [os.path.splitext(x)[0] for x in laz_files]\n",
    "files_done_no_ext = [os.path.splitext(x)[0] for x in files_done]\n",
    "\n",
    "# use set functions to compare and find missing\n",
    "not_yet = set(laz_no_ext) - set(files_done_no_ext)\n",
    "\n",
    "# add file extension back on and listify the set\n",
    "laz_to_do = [x + \".laz\" for x in list(not_yet)]\n",
    "\n",
    "print(\"LAZ files that have not yet been converted:\\n \", laz_to_do)"
   ]
  },
  {
   "cell_type": "markdown",
   "metadata": {},
   "source": [
    "# Convert list of `.laz` files to `.las`"
   ]
  },
  {
   "cell_type": "code",
   "execution_count": 135,
   "metadata": {},
   "outputs": [
    {
     "data": {
      "text/plain": [
       "['USGS_LPC_OH_Columbus_2019_B19_BS787761.laz']"
      ]
     },
     "execution_count": 135,
     "metadata": {},
     "output_type": "execute_result"
    }
   ],
   "source": [
    "# lookin gat what is left to go, printing the list\n",
    "laz_to_do"
   ]
  },
  {
   "cell_type": "code",
   "execution_count": 136,
   "metadata": {},
   "outputs": [
    {
     "data": {
      "text/plain": [
       "'G:\\\\GIS Data\\\\Users Planning\\\\Projects\\\\MetroCenterProject\\\\LidarLas'"
      ]
     },
     "execution_count": 136,
     "metadata": {},
     "output_type": "execute_result"
    }
   ],
   "source": [
    "# checking the aboslute path of the destinatoin folder\n",
    "os.path.abspath(dest_fold)"
   ]
  },
  {
   "cell_type": "code",
   "execution_count": 137,
   "metadata": {},
   "outputs": [
    {
     "data": {
      "text/plain": [
       "'G:\\\\GIS Data\\\\Users Planning\\\\Projects\\\\MetroCenterProject\\\\lidar'"
      ]
     },
     "execution_count": 137,
     "metadata": {},
     "output_type": "execute_result"
    }
   ],
   "source": [
    "org_fold"
   ]
  },
  {
   "cell_type": "markdown",
   "metadata": {},
   "source": [
    "## Template Code\n",
    "\n",
    "### Copied ArcPy tool GUI for convert Las\n",
    "\n",
    "```\n",
    "arcpy.conversion.ConvertLas(\n",
    "    in_las=r\"G:\\GIS Data\\Users Planning\\Projects\\MetroCenterProject\\Lidar\\USGS_LPC_OH_Columbus_2019_B19_BS786760.laz\",\n",
    "    target_folder=r\"G:\\GIS Data\\Users Planning\\Projects\\MetroCenterProject\\Lidar\",\n",
    "    file_version=\"SAME_AS_INPUT\",\n",
    "    point_format=\"\",\n",
    "    compression=\"NO_COMPRESSION\",\n",
    "    las_options=\"REARRANGE_POINTS\",\n",
    "    out_las_dataset=None,\n",
    "    define_coordinate_system=\"NO_FILES\",\n",
    "    in_coordinate_system=None\n",
    ")\n",
    "```"
   ]
  },
  {
   "cell_type": "code",
   "execution_count": 138,
   "metadata": {
    "scrolled": false
   },
   "outputs": [
    {
     "name": "stdout",
     "output_type": "stream",
     "text": [
      "file  1  /  1\n",
      "Running arcpy.conversion.ConvertLas() on  USGS_LPC_OH_Columbus_2019_B19_BS787761.laz  sending to  LidarLas\n",
      "\t\tcomplete\n",
      "All Done\n"
     ]
    }
   ],
   "source": [
    "# iterate all files in list of laz_files\n",
    "for i,f in enumerate(laz_to_do):\n",
    "    print(\"file \", i+1, \" / \", len(laz_to_do))\n",
    "\n",
    "    print(\"Running arcpy.conversion.ConvertLas() on \", f, \" sending to \", dest_fold)\n",
    "    arcpy.conversion.ConvertLas(\n",
    "    \n",
    "    # define the file being processed, by origin folder and file name\n",
    "    in_las= os.path.join(org_fold, f),\n",
    "        \n",
    "    # destination folder \n",
    "    target_folder= dest_fold,\n",
    "        \n",
    "    file_version=\"SAME_AS_INPUT\",\n",
    "    point_format=\"\",\n",
    "    compression=\"NO_COMPRESSION\",\n",
    "    las_options=\"REARRANGE_POINTS\",\n",
    "    out_las_dataset=None,\n",
    "    define_coordinate_system=\"NO_FILES\",\n",
    "    in_coordinate_system=None)\n",
    "          \n",
    "    print(\"\\t\\tcomplete\")\n",
    "print(\"All Done\")"
   ]
  },
  {
   "cell_type": "markdown",
   "metadata": {},
   "source": [
    "# Create LAS Dataset and Create Raster DEM\n",
    "\n",
    "## Purpose:\n",
    "* Combining `.las` tiles into one dataset allows for creating large area models\n",
    "* Esri's format for this is called a LAS Dataset, will create this from the `.las` tiles\n",
    "* Then Create a raster **Digital Elevation Model (DEM)** from the lidar point cloud data as a precursor to creating contours.\n",
    "* By going to a raster format first, each cell averages the lidar data within its extent which smooths out the noise of lidar\n",
    "\n",
    "Source docs https://pro.arcgis.com/en/pro-app/latest/tool-reference/data-management/create-las-dataset.htm \n"
   ]
  },
  {
   "cell_type": "code",
   "execution_count": 139,
   "metadata": {},
   "outputs": [
    {
     "data": {
      "text/html": [
       "<div class='gpresult'><h2>Messages</h2><div id='messages' data-messages='[\"Start Time: Tuesday, December 12, 2023 12:57:45 PM\",\"Succeeded at Tuesday, December 12, 2023 12:57:49 PM (Elapsed Time: 4.68 seconds)\"]' data-show='true'><div id = 'default' /></div></div>"
      ],
      "text/plain": [
       "<Result 'G:\\\\GIS Data\\\\Users Planning\\\\Projects\\\\MetroCenterProject\\\\LasDataset.lasd'>"
      ]
     },
     "execution_count": 139,
     "metadata": {},
     "output_type": "execute_result"
    }
   ],
   "source": [
    "arcpy.management.CreateLasDataset(\n",
    "    input=r\"'G:\\GIS Data\\Users Planning\\Projects\\MetroCenterProject\\LidarLas'\",\n",
    "    out_las_dataset=os.path.join(os.getcwd(),\"LasDataset.lasd\"), # define name and location of destination LAS Dataset\n",
    "    folder_recursion=\"NO_RECURSION\",\n",
    "    in_surface_constraints=None,\n",
    "    spatial_reference=None, # will use the first one to define spatial ref\n",
    "    compute_stats=\"COMPUTE_STATS\",\n",
    "    relative_paths=\"ABSOLUTE_PATHS\",\n",
    "    create_las_prj=\"NO_FILES\",\n",
    "    extent=\"DEFAULT\",\n",
    "    boundary=None,\n",
    "    add_only_contained_files=\"INTERSECTED_FILES\"\n",
    ")"
   ]
  },
  {
   "cell_type": "markdown",
   "metadata": {},
   "source": [
    "# Make Las Dataset Layer (Filter for Ground Only)\n",
    "\n",
    "### This creates a layer in the current map which is used by the next step; it is not saving it out to a GIS file.\n",
    "\n",
    "It requires an active Map in ArcGIS Pro"
   ]
  },
  {
   "cell_type": "code",
   "execution_count": 140,
   "metadata": {
    "scrolled": true
   },
   "outputs": [
    {
     "data": {
      "text/html": [
       "<div class='gpresult'><h2>Messages</h2><div id='messages' data-messages='[\"Start Time: Tuesday, December 12, 2023 1:56:02 PM\",\"Succeeded at Tuesday, December 12, 2023 1:56:02 PM (Elapsed Time: 0.12 seconds)\"]' data-show='true'><div id = 'default' /></div></div>"
      ],
      "text/plain": [
       "<Result 'LasDataset_Ground'>"
      ]
     },
     "execution_count": 140,
     "metadata": {},
     "output_type": "execute_result"
    }
   ],
   "source": [
    "arcpy.management.MakeLasDatasetLayer(\n",
    "    in_las_dataset=\"LasDataset.lasd\",\n",
    "    out_layer=\"LasDataset_Ground\",\n",
    "    class_code=\"2\",\n",
    "    return_values=None,\n",
    "    no_flag=\"INCLUDE_UNFLAGGED\",\n",
    "    synthetic=\"INCLUDE_SYNTHETIC\",\n",
    "    keypoint=\"INCLUDE_KEYPOINT\",\n",
    "    withheld=\"EXCLUDE_WITHHELD\",\n",
    "    surface_constraints=None,\n",
    "    overlap=\"INCLUDE_OVERLAP\"\n",
    ")"
   ]
  },
  {
   "cell_type": "markdown",
   "metadata": {},
   "source": [
    "# Create DEM"
   ]
  },
  {
   "cell_type": "code",
   "execution_count": 141,
   "metadata": {},
   "outputs": [],
   "source": [
    "with arcpy.EnvManager(cellSize=\"MAXOF\"):\n",
    "    arcpy.conversion.LasDatasetToRaster(\n",
    "        in_las_dataset=\"LasDataset_Ground\",\n",
    "        out_raster=r\"G:\\GIS Data\\Users Planning\\Projects\\MetroCenterProject\\DEM\\las_to_dem_2ft.tif\",\n",
    "        value_field=\"ELEVATION\",\n",
    "        interpolation_type=\"BINNING AVERAGE LINEAR\",\n",
    "        data_type=\"FLOAT\",\n",
    "        sampling_type=\"CELLSIZE\",\n",
    "        sampling_value=2,\n",
    "        z_factor=1\n",
    "    )"
   ]
  },
  {
   "cell_type": "markdown",
   "metadata": {},
   "source": [
    "# Create Contours"
   ]
  },
  {
   "cell_type": "code",
   "execution_count": 142,
   "metadata": {},
   "outputs": [
    {
     "data": {
      "text/html": [
       "<div class='gpresult'><h2>Messages</h2><div id='messages' data-messages='[\"Start Time: Tuesday, December 12, 2023 2:13:36 PM\",\"Succeeded at Tuesday, December 12, 2023 2:14:27 PM (Elapsed Time: 50.82 seconds)\"]' data-show='true'><div id = 'default' /></div></div>"
      ],
      "text/plain": [
       "<Result 'G:\\\\GIS Data\\\\Users Planning\\\\Projects\\\\MetroCenterProject\\\\MetroCenterProject.gdb\\\\Contour_dem2ft'>"
      ]
     },
     "execution_count": 142,
     "metadata": {},
     "output_type": "execute_result"
    }
   ],
   "source": [
    "arcpy.ddd.Contour(\n",
    "    in_raster=\"las_to_dem_2ft.tif\",\n",
    "    out_polyline_features=r\"G:\\GIS Data\\Users Planning\\Projects\\MetroCenterProject\\MetroCenterProject.gdb\\Contour_dem2ft\",\n",
    "    contour_interval=1,\n",
    "    base_contour=0,\n",
    "    z_factor=1,\n",
    "    contour_type=\"CONTOUR\",\n",
    "    max_vertices_per_feature=None\n",
    ")"
   ]
  },
  {
   "cell_type": "markdown",
   "metadata": {},
   "source": [
    "# Create Shapefile of contours for portability to others"
   ]
  },
  {
   "cell_type": "code",
   "execution_count": null,
   "metadata": {},
   "outputs": [],
   "source": [
    "arcpy.conversion.FeatureClassToShapefile(\n",
    "    Input_Features=\"Contour_dem2ft\",\n",
    "    Output_Folder=r\"G:\\GIS Data\\Users Planning\\Projects\\MetroCenterProject\\Exports\\Shapefile\"\n",
    ")"
   ]
  }
 ],
 "metadata": {
  "kernelspec": {
   "display_name": "ArcGISPro",
   "language": "Python",
   "name": "python3"
  },
  "language_info": {
   "file_extension": ".py",
   "name": "python",
   "version": "3"
  }
 },
 "nbformat": 4,
 "nbformat_minor": 2
}
